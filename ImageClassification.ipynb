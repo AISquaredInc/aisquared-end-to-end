{
 "cells": [
  {
   "cell_type": "markdown",
   "metadata": {},
   "source": [
    "# Image Classification in the Browser\n",
    "\n",
    "In this notebook, we will show how to create a `.air` file to perform image classification in the browser using a neural network.  To do this, we will utilize the CIFAR-10 dataset to build the initial model, prune the model using the `beyondml` package, and then package the model using the `aisquared` Python SDK."
   ]
  },
  {
   "cell_type": "markdown",
   "metadata": {},
   "source": [
    "## Dependencies\n",
    "\n",
    "For this notebook, the following dependencies are required:\n",
    "\n",
    "- `beyondml`\n",
    "- `aisquared`\n",
    "\n",
    "Both of these are available on [pypi](https://pypi.org) via `pip`.  The following cell also runs the commands to install these dependencies as well as imports them into the notebook environment, along with TensorFlow (which is a dependency of the `beyondml` package)."
   ]
  },
  {
   "cell_type": "code",
   "execution_count": null,
   "metadata": {},
   "outputs": [],
   "source": [
    "! pip install beyondml\n",
    "! pip install aisquared\n",
    "\n",
    "from sklearn.metrics import classification_report, confusion_matrix\n",
    "import tensorflow as tf\n",
    "import aisquared\n",
    "import beyondml.tflow as mann"
   ]
  },
  {
   "cell_type": "markdown",
   "metadata": {},
   "source": [
    "## Model Creation\n",
    "\n",
    "Now that the required packages have been installed and imported, it is time to create the sentiment analysis model.  To do this, we have to first download and preprocess the data, create the model, prune the model so that it can perform well in the browser, and then package the model in the `.air` format.  The following cells will go through an in-depth explanation of each of the steps in this process."
   ]
  },
  {
   "cell_type": "code",
   "execution_count": null,
   "metadata": {},
   "outputs": [],
   "source": [
    "# Loading the data\n",
    "(x_train, y_train), (x_test, y_test) = tf.keras.datasets.cifar10.load_data()\n",
    "\n",
    "x_train = tf.image.resize(x_train, [30, 30])/255\n",
    "x_test = tf.image.resize(x_test, [30, 30])/255\n",
    "\n",
    "label_map = [\n",
    "    'airplane',\n",
    "    'automobile',\n",
    "    'bird',\n",
    "    'cat',\n",
    "    'deer',\n",
    "    'dog',\n",
    "    'frog',\n",
    "    'horse',\n",
    "    'ship',\n",
    "    'truck'\n",
    "]"
   ]
  },
  {
   "cell_type": "code",
   "execution_count": null,
   "metadata": {},
   "outputs": [],
   "source": [
    "# Create the model\n",
    "\n",
    "input_layer = tf.keras.layers.Input(x_train.shape[1:])\n",
    "x = mann.layers.MaskedConv2D(\n",
    "    16,\n",
    "    padding = 'same',\n",
    "    activation = 'relu'\n",
    ")(input_layer)\n",
    "x = mann.layers.MaskedConv2D(\n",
    "    16,\n",
    "    padding = 'same',\n",
    "    activation = 'relu'\n",
    ")(x)\n",
    "x = tf.keras.layers.MaxPool2D(\n",
    "    2,\n",
    "    strides = 1,\n",
    "    padding = 'valid'\n",
    ")(x)\n",
    "x = mann.layers.MaskedConv2D(\n",
    "    32,\n",
    "    padding = 'same',\n",
    "    activation = 'relu'\n",
    ")(x)\n",
    "x = mann.layers.MaskedConv2D(\n",
    "    32,\n",
    "    padding = 'same',\n",
    "    activation = 'relu'\n",
    ")(x)\n",
    "x = tf.keras.layers.MaxPool2D(\n",
    "    2,\n",
    "    strides = 1,\n",
    "    padding = 'valid'\n",
    ")(x)\n",
    "x = mann.layers.MaskedConv2D(\n",
    "    64,\n",
    "    activation = 'relu'\n",
    ")(x)\n",
    "x = mann.layers.MaskedConv2D(\n",
    "    64,\n",
    "    activation = 'relu'\n",
    ")(x)\n",
    "x = tf.keras.layers.MaxPool2D(\n",
    "    2,\n",
    "    strides = 1,\n",
    "    padding = 'valid'\n",
    ")(x)\n",
    "x = tf.keras.layers.Flatten()(x)\n",
    "x = mann.layers.MaskedDense(256, activation = 'relu')(x)\n",
    "x = mann.layers.MaskedDense(256, activation = 'relu')(x)\n",
    "output_layer = mann.layers.MaskedDense(10, activation = 'softmax')(x)\n",
    "\n",
    "model = tf.keras.models.Model(input_layer, output_layer)\n",
    "model.compile(loss = 'sparse_categorical_crossentropy', optimizer = 'adam', metrics = ['accuracy'])\n",
    "model.summary()"
   ]
  },
  {
   "cell_type": "code",
   "execution_count": null,
   "metadata": {},
   "outputs": [],
   "source": [
    "# Perform initial sparsification\n",
    "model = mann.utils.mask_model(\n",
    "    model,\n",
    "    20,\n",
    "    x = x_train[:1000],\n",
    "    y = y_train[:1000]\n",
    ")\n",
    "\n",
    "model.compile(\n",
    "    loss = 'sparse_categorical_crossentropy',\n",
    "    optimizer = 'adam',\n",
    "    metrics = ['accuracy']\n",
    ")\n",
    "\n",
    "# Create a pruning callback that will increase pruning rate as performance improves\n",
    "callback = mann.utils.ActiveSparsification(\n",
    "    performance_cutoff = 0.60,\n",
    "    starting_sparsification = 20,\n",
    "    max_sparsification = 80,\n",
    "    sparsification_rate = 5\n",
    ")\n",
    "\n",
    "# Train the model with the sparsification callback\n",
    "model.fit(\n",
    "    x_train,\n",
    "    y_train,\n",
    "    epochs = 1000,\n",
    "    batch_size = 512,\n",
    "    validation_split = 0.2,\n",
    "    verbose = 2,\n",
    "    callbacks = [callback]\n",
    ")\n",
    "\n",
    "# Now that the model has been trained, convert all model layers to built-in TensorFlow layers\n",
    "model = mann.utils.remove_layer_masks(model)"
   ]
  },
  {
   "cell_type": "code",
   "execution_count": null,
   "metadata": {},
   "outputs": [],
   "source": [
    "# Check model performance\n",
    "preds = model.predict(x_test).argmax(axis = 1)\n",
    "print('Model Performance on Test Data:')\n",
    "print('\\n')\n",
    "print(confusion_matrix(y_test, preds))\n",
    "print(classification_report(y_test, preds))\n",
    "\n",
    "# Save the model\n",
    "model.save('ImageClassifier.h5')"
   ]
  },
  {
   "cell_type": "markdown",
   "metadata": {},
   "source": [
    "## Package the Model\n",
    "\n",
    "Now that the model has been created, we can package the model into a single `.air` file that enables integration into the browser.\n",
    "\n",
    "To perform this packaging, we will be utilizing the `aisquared` package."
   ]
  },
  {
   "cell_type": "code",
   "execution_count": null,
   "metadata": {},
   "outputs": [],
   "source": [
    "harvester = aisquared.config.harvesting.ImageHarvester()\n",
    "preprocesser = aisquared.config.preprocessing.image.ImagePreprocessor(\n",
    "    [\n",
    "        aisquared.config.preprocessing.image.Resize([30, 30]),\n",
    "        aisquared.confgi.preproccessing.image.DivideValue(255)\n",
    "    ]\n",
    ")\n",
    "analytic = aisquared.config.analytic.LocalModel('ImageClassifier.h5', 'cv')\n",
    "postprocesser = aisquared.config.postprocessing.MulticlassClassification(label_map, include_probability = True)\n",
    "renderer = aisquared.config.rendering.ImageRendering()\n",
    "\n",
    "config = aisquared.config.ModelConfiguration(\n",
    "    'cifar10classifier',\n",
    "    harvester,\n",
    "    preprocesser,\n",
    "    analytic,\n",
    "    postprocesser,\n",
    "    renderer\n",
    ")"
   ]
  }
 ],
 "metadata": {
  "interpreter": {
   "hash": "0671325c08d22fc44ce2e58aedbf8efae69ce5eb9c1911bbe321ecb24080d883"
  },
  "kernelspec": {
   "display_name": "Python 3.9.10 64-bit ('base': conda)",
   "language": "python",
   "name": "python3"
  },
  "language_info": {
   "codemirror_mode": {
    "name": "ipython",
    "version": 3
   },
   "file_extension": ".py",
   "mimetype": "text/x-python",
   "name": "python",
   "nbconvert_exporter": "python",
   "pygments_lexer": "ipython3",
   "version": "3.10.6"
  },
  "orig_nbformat": 4
 },
 "nbformat": 4,
 "nbformat_minor": 2
}
