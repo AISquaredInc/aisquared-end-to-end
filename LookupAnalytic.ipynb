{
 "cells": [
  {
   "cell_type": "markdown",
   "metadata": {},
   "source": [
    "# Deploying a Lookup Analytic in the Browser\n",
    "\n",
    "In this notebook, we will show how to create a `.air` file to perform a simple lookup of analytic results from an analytic that has already been run.  To do this, we will create a simple example which will utilize a regular expression to identify strings of digits which could potentially be phone numbers.  Once those are identified, the phone numbers will be stripped of all punctuation (characters such as parentheses and hyphens) and looked up in a fictional customer database to see if there is any additional information about that customer."
   ]
  },
  {
   "cell_type": "markdown",
   "metadata": {},
   "source": [
    "## Dependencies\n",
    "\n",
    "For this notebook, the following dependencies are required:\n",
    "\n",
    "- `aisquared`\n",
    "\n",
    "This package is avilable on on [pypi](https://pypi.org) via `pip`.  The following cell also runs the commands to install this dependency as well as imports them into the notebook environment."
   ]
  },
  {
   "cell_type": "code",
   "execution_count": 2,
   "metadata": {},
   "outputs": [
    {
     "name": "stdout",
     "output_type": "stream",
     "text": [
      "Requirement already satisfied: aisquared in /Users/jwrenn4/miniforge3/lib/python3.9/site-packages (0.0.4.dev0)\n",
      "Requirement already satisfied: tensorflowjs in /Users/jwrenn4/miniforge3/lib/python3.9/site-packages (from aisquared) (3.13.0)\n",
      "Requirement already satisfied: tensorflow<3,>=2.1.0 in /Users/jwrenn4/miniforge3/lib/python3.9/site-packages (from tensorflowjs->aisquared) (2.6.2)\n",
      "Requirement already satisfied: tensorflow-hub<0.13,>=0.7.0 in /Users/jwrenn4/miniforge3/lib/python3.9/site-packages (from tensorflowjs->aisquared) (0.12.0)\n",
      "Requirement already satisfied: six<2,>=1.12.0 in /Users/jwrenn4/miniforge3/lib/python3.9/site-packages (from tensorflowjs->aisquared) (1.15.0)\n",
      "Requirement already satisfied: keras-preprocessing~=1.1.2 in /Users/jwrenn4/miniforge3/lib/python3.9/site-packages (from tensorflow<3,>=2.1.0->tensorflowjs->aisquared) (1.1.2)\n",
      "Requirement already satisfied: grpcio<2.0,>=1.42 in /Users/jwrenn4/miniforge3/lib/python3.9/site-packages (from tensorflow<3,>=2.1.0->tensorflowjs->aisquared) (1.42.0)\n",
      "Requirement already satisfied: astunparse~=1.6.3 in /Users/jwrenn4/miniforge3/lib/python3.9/site-packages (from tensorflow<3,>=2.1.0->tensorflowjs->aisquared) (1.6.3)\n",
      "Requirement already satisfied: absl-py~=0.10 in /Users/jwrenn4/miniforge3/lib/python3.9/site-packages (from tensorflow<3,>=2.1.0->tensorflowjs->aisquared) (0.15.0)\n",
      "Requirement already satisfied: typing-extensions~=3.7.4 in /Users/jwrenn4/miniforge3/lib/python3.9/site-packages (from tensorflow<3,>=2.1.0->tensorflowjs->aisquared) (3.7.4.3)\n",
      "Requirement already satisfied: wheel~=0.35 in /Users/jwrenn4/miniforge3/lib/python3.9/site-packages (from tensorflow<3,>=2.1.0->tensorflowjs->aisquared) (0.37.1)\n",
      "Requirement already satisfied: h5py~=3.1.0 in /Users/jwrenn4/miniforge3/lib/python3.9/site-packages (from tensorflow<3,>=2.1.0->tensorflowjs->aisquared) (3.1.0)\n",
      "Requirement already satisfied: tensorboard<2.7,>=2.6.0 in /Users/jwrenn4/miniforge3/lib/python3.9/site-packages (from tensorflow<3,>=2.1.0->tensorflowjs->aisquared) (2.6.0)\n",
      "Requirement already satisfied: wrapt~=1.12.1 in /Users/jwrenn4/miniforge3/lib/python3.9/site-packages (from tensorflow<3,>=2.1.0->tensorflowjs->aisquared) (1.12.1)\n",
      "Requirement already satisfied: keras<2.7,>=2.6.0 in /Users/jwrenn4/miniforge3/lib/python3.9/site-packages (from tensorflow<3,>=2.1.0->tensorflowjs->aisquared) (2.6.0)\n",
      "Requirement already satisfied: opt-einsum~=3.3.0 in /Users/jwrenn4/miniforge3/lib/python3.9/site-packages (from tensorflow<3,>=2.1.0->tensorflowjs->aisquared) (3.3.0)\n",
      "Requirement already satisfied: tensorflow-estimator<2.7,>=2.6.0 in /Users/jwrenn4/miniforge3/lib/python3.9/site-packages (from tensorflow<3,>=2.1.0->tensorflowjs->aisquared) (2.6.0)\n",
      "Requirement already satisfied: google-pasta~=0.2 in /Users/jwrenn4/miniforge3/lib/python3.9/site-packages (from tensorflow<3,>=2.1.0->tensorflowjs->aisquared) (0.2.0)\n",
      "Requirement already satisfied: numpy~=1.19.2 in /Users/jwrenn4/miniforge3/lib/python3.9/site-packages (from tensorflow<3,>=2.1.0->tensorflowjs->aisquared) (1.19.5)\n",
      "Requirement already satisfied: flatbuffers~=1.12.0 in /Users/jwrenn4/miniforge3/lib/python3.9/site-packages (from tensorflow<3,>=2.1.0->tensorflowjs->aisquared) (1.12)\n",
      "Requirement already satisfied: protobuf>=3.9.2 in /Users/jwrenn4/miniforge3/lib/python3.9/site-packages (from tensorflow<3,>=2.1.0->tensorflowjs->aisquared) (3.18.1)\n",
      "Requirement already satisfied: termcolor~=1.1.0 in /Users/jwrenn4/miniforge3/lib/python3.9/site-packages (from tensorflow<3,>=2.1.0->tensorflowjs->aisquared) (1.1.0)\n",
      "Requirement already satisfied: gast==0.4.0 in /Users/jwrenn4/miniforge3/lib/python3.9/site-packages (from tensorflow<3,>=2.1.0->tensorflowjs->aisquared) (0.4.0)\n",
      "Requirement already satisfied: tensorboard-plugin-wit>=1.6.0 in /Users/jwrenn4/miniforge3/lib/python3.9/site-packages (from tensorboard<2.7,>=2.6.0->tensorflow<3,>=2.1.0->tensorflowjs->aisquared) (1.8.1)\n",
      "Requirement already satisfied: setuptools>=41.0.0 in /Users/jwrenn4/miniforge3/lib/python3.9/site-packages (from tensorboard<2.7,>=2.6.0->tensorflow<3,>=2.1.0->tensorflowjs->aisquared) (60.8.1)\n",
      "Requirement already satisfied: google-auth<2,>=1.6.3 in /Users/jwrenn4/miniforge3/lib/python3.9/site-packages (from tensorboard<2.7,>=2.6.0->tensorflow<3,>=2.1.0->tensorflowjs->aisquared) (1.35.0)\n",
      "Requirement already satisfied: google-auth-oauthlib<0.5,>=0.4.1 in /Users/jwrenn4/miniforge3/lib/python3.9/site-packages (from tensorboard<2.7,>=2.6.0->tensorflow<3,>=2.1.0->tensorflowjs->aisquared) (0.4.6)\n",
      "Requirement already satisfied: requests<3,>=2.21.0 in /Users/jwrenn4/miniforge3/lib/python3.9/site-packages (from tensorboard<2.7,>=2.6.0->tensorflow<3,>=2.1.0->tensorflowjs->aisquared) (2.27.1)\n",
      "Requirement already satisfied: tensorboard-data-server<0.7.0,>=0.6.0 in /Users/jwrenn4/miniforge3/lib/python3.9/site-packages (from tensorboard<2.7,>=2.6.0->tensorflow<3,>=2.1.0->tensorflowjs->aisquared) (0.6.0)\n",
      "Requirement already satisfied: werkzeug>=0.11.15 in /Users/jwrenn4/miniforge3/lib/python3.9/site-packages (from tensorboard<2.7,>=2.6.0->tensorflow<3,>=2.1.0->tensorflowjs->aisquared) (2.0.3)\n",
      "Requirement already satisfied: markdown>=2.6.8 in /Users/jwrenn4/miniforge3/lib/python3.9/site-packages (from tensorboard<2.7,>=2.6.0->tensorflow<3,>=2.1.0->tensorflowjs->aisquared) (3.3.6)\n",
      "Requirement already satisfied: rsa<5,>=3.1.4 in /Users/jwrenn4/miniforge3/lib/python3.9/site-packages (from google-auth<2,>=1.6.3->tensorboard<2.7,>=2.6.0->tensorflow<3,>=2.1.0->tensorflowjs->aisquared) (4.8)\n",
      "Requirement already satisfied: cachetools<5.0,>=2.0.0 in /Users/jwrenn4/miniforge3/lib/python3.9/site-packages (from google-auth<2,>=1.6.3->tensorboard<2.7,>=2.6.0->tensorflow<3,>=2.1.0->tensorflowjs->aisquared) (4.2.4)\n",
      "Requirement already satisfied: pyasn1-modules>=0.2.1 in /Users/jwrenn4/miniforge3/lib/python3.9/site-packages (from google-auth<2,>=1.6.3->tensorboard<2.7,>=2.6.0->tensorflow<3,>=2.1.0->tensorflowjs->aisquared) (0.2.7)\n",
      "Requirement already satisfied: requests-oauthlib>=0.7.0 in /Users/jwrenn4/miniforge3/lib/python3.9/site-packages (from google-auth-oauthlib<0.5,>=0.4.1->tensorboard<2.7,>=2.6.0->tensorflow<3,>=2.1.0->tensorflowjs->aisquared) (1.3.1)\n",
      "Requirement already satisfied: importlib-metadata>=4.4 in /Users/jwrenn4/miniforge3/lib/python3.9/site-packages (from markdown>=2.6.8->tensorboard<2.7,>=2.6.0->tensorflow<3,>=2.1.0->tensorflowjs->aisquared) (4.10.1)\n",
      "Requirement already satisfied: idna<4,>=2.5 in /Users/jwrenn4/miniforge3/lib/python3.9/site-packages (from requests<3,>=2.21.0->tensorboard<2.7,>=2.6.0->tensorflow<3,>=2.1.0->tensorflowjs->aisquared) (3.3)\n",
      "Requirement already satisfied: charset-normalizer~=2.0.0 in /Users/jwrenn4/miniforge3/lib/python3.9/site-packages (from requests<3,>=2.21.0->tensorboard<2.7,>=2.6.0->tensorflow<3,>=2.1.0->tensorflowjs->aisquared) (2.0.11)\n",
      "Requirement already satisfied: certifi>=2017.4.17 in /Users/jwrenn4/miniforge3/lib/python3.9/site-packages (from requests<3,>=2.21.0->tensorboard<2.7,>=2.6.0->tensorflow<3,>=2.1.0->tensorflowjs->aisquared) (2021.10.8)\n",
      "Requirement already satisfied: urllib3<1.27,>=1.21.1 in /Users/jwrenn4/miniforge3/lib/python3.9/site-packages (from requests<3,>=2.21.0->tensorboard<2.7,>=2.6.0->tensorflow<3,>=2.1.0->tensorflowjs->aisquared) (1.26.8)\n",
      "Requirement already satisfied: zipp>=0.5 in /Users/jwrenn4/miniforge3/lib/python3.9/site-packages (from importlib-metadata>=4.4->markdown>=2.6.8->tensorboard<2.7,>=2.6.0->tensorflow<3,>=2.1.0->tensorflowjs->aisquared) (3.7.0)\n",
      "Requirement already satisfied: pyasn1<0.5.0,>=0.4.6 in /Users/jwrenn4/miniforge3/lib/python3.9/site-packages (from pyasn1-modules>=0.2.1->google-auth<2,>=1.6.3->tensorboard<2.7,>=2.6.0->tensorflow<3,>=2.1.0->tensorflowjs->aisquared) (0.4.8)\n",
      "Requirement already satisfied: oauthlib>=3.0.0 in /Users/jwrenn4/miniforge3/lib/python3.9/site-packages (from requests-oauthlib>=0.7.0->google-auth-oauthlib<0.5,>=0.4.1->tensorboard<2.7,>=2.6.0->tensorflow<3,>=2.1.0->tensorflowjs->aisquared) (3.2.0)\n"
     ]
    }
   ],
   "source": [
    "! pip install aisquared\n",
    "\n",
    "import aisquared\n",
    "import json"
   ]
  },
  {
   "cell_type": "markdown",
   "metadata": {},
   "source": [
    "## Analytic Creation\n",
    "\n",
    "Now that the required packages have been installed and imported, it is time to create the results of the analytic.  These results are going to be recorded in JSON form via a Python dictionary, with the top-level key being the digits of the phone number and the lower-level keys being the associated individual's name and customer ID.\n",
    "\n",
    "This dictionary will then be saved to a JSON file, and we will then configure the `.air` file configuration around it."
   ]
  },
  {
   "cell_type": "code",
   "execution_count": 3,
   "metadata": {},
   "outputs": [],
   "source": [
    "# Configure the example results\n",
    "\n",
    "results = {\n",
    "    '1111111111' : {\n",
    "        'name' : 'John Doe',\n",
    "        'customerID' : 11111\n",
    "    },\n",
    "    '2222222222' : {\n",
    "        'name' : 'Jane Doe',\n",
    "        'customerID' : 22222\n",
    "    },\n",
    "    '3333333333' : {\n",
    "        'name' : 'Alice Doe',\n",
    "        'customerID' : 33333\n",
    "    },\n",
    "    '4444444444' : {\n",
    "        'name' : 'Bob Doe',\n",
    "        'customerID' : 44444\n",
    "    },\n",
    "    '5555555555' : {\n",
    "        'name' : 'Charlie Doe',\n",
    "        'customerID' : 55555\n",
    "    },\n",
    "    '6666666666' : {\n",
    "        'name' : 'Denise Doe',\n",
    "        'customerID' : 66666\n",
    "    },\n",
    "    '7777777777' : {\n",
    "        'name' : 'Evan Doe',\n",
    "        'customerID' : 77777\n",
    "    },\n",
    "    '8888888888' : {\n",
    "        'name' : 'Frank Doe',\n",
    "        'customerID' : 88888\n",
    "    },\n",
    "    '9999999999' : {\n",
    "        'name' : 'Gregory Doe',\n",
    "        'customerID' : 99999\n",
    "    }\n",
    "}\n",
    "\n",
    "# Save the analytic as a JSON file\n",
    "file_name = 'analytic.json'\n",
    "with open(file_name, 'w') as f:\n",
    "    json.dump(results, f)"
   ]
  },
  {
   "cell_type": "markdown",
   "metadata": {},
   "source": [
    "## Create the ModelConfiguration\n",
    "\n",
    "In the following cell, we configure the harvesting, preprocessing, analytic, postprocessing, and rendering steps.  Once those are created, we add them all to the `ModelConfiguration` object and compile them into the `.air` file."
   ]
  },
  {
   "cell_type": "code",
   "execution_count": 4,
   "metadata": {},
   "outputs": [],
   "source": [
    "# Harvesting\n",
    "\n",
    "# For harvesting, we need to harvest using a regular expression\n",
    "# that identifies possible phone numbers.  The following lines of \n",
    "# code configure such harvesting\n",
    "\n",
    "regex = '/^[\\.-)( ]*([0-9]{3})[\\.-)( ]*([0-9]{3})[\\.-)( ]*([0-9]{4})$/'\n",
    "harvester = aisquared.config.harvesting.TextHarvester(\n",
    "    how = 'regex',\n",
    "    regex = regex\n",
    ")"
   ]
  },
  {
   "cell_type": "code",
   "execution_count": 9,
   "metadata": {},
   "outputs": [],
   "source": [
    "# Preprocessing\n",
    "\n",
    "# The only preprocessing step that has to be conducted is the \n",
    "# removal of all punctuation, since the phone numbers in the \n",
    "# analytic JSON are all strictly digits\n",
    "\n",
    "step = aisquared.config.preprocessing.RemoveCharacters(\n",
    "    remove_digits = False,\n",
    "    remove_punctuation = True\n",
    ")\n",
    "preprocesser = aisquared.config.preprocessing.TextPreprocessor()\n",
    "preprocesser.add_step(step)"
   ]
  },
  {
   "cell_type": "code",
   "execution_count": 11,
   "metadata": {},
   "outputs": [],
   "source": [
    "# Analytic\n",
    "\n",
    "# The analytic for this configuration is going to be a LocalAnalytic\n",
    "# class, where we pass the saved file to the object\n",
    "\n",
    "analytic = aisquared.config.analytic.LocalAnalytic(file_name)"
   ]
  },
  {
   "cell_type": "code",
   "execution_count": 13,
   "metadata": {},
   "outputs": [],
   "source": [
    "# Postprocessing\n",
    "\n",
    "# No postprocessing steps are needed, so we can set that value to None\n",
    "\n",
    "postprocesser = None"
   ]
  },
  {
   "cell_type": "code",
   "execution_count": 17,
   "metadata": {},
   "outputs": [],
   "source": [
    "# Rendering\n",
    "\n",
    "# To render results, we are going to use the WordRendering class to\n",
    "# initialize the rendering of badges for individual words. By default,\n",
    "# the WordRendering class renders the specific words/tokens that were\n",
    "# input into the analytics\n",
    "\n",
    "renderer = aisquared.config.rendering.WordRendering()"
   ]
  },
  {
   "cell_type": "code",
   "execution_count": 21,
   "metadata": {},
   "outputs": [],
   "source": [
    "# Putting it all together\n",
    "\n",
    "# Finally, we will take the previous objects and put them all \n",
    "# together into a single ModelConfiguration object, which is then \n",
    "# compiled into the .air file\n",
    "\n",
    "config = aisquared.config.ModelConfiguration(\n",
    "    name = 'PhoneNumberLookup',\n",
    "    harvesting_steps = harvester,\n",
    "    preprocessing_steps = preprocesser,\n",
    "    analytic = analytic,\n",
    "    postprocessing_steps = postprocesser,\n",
    "    rendering_steps = renderer,\n",
    "    version = None,\n",
    "    description = 'Phone number lookup which shows name and customer ID (if present) for phone numbers found',\n",
    "    mlflow_uri = None,\n",
    "    mlflow_user = None,\n",
    "    mlflow_token = None\n",
    ")\n",
    "\n",
    "# compile to create .air file\n",
    "config.compile()"
   ]
  }
 ],
 "metadata": {
  "interpreter": {
   "hash": "0671325c08d22fc44ce2e58aedbf8efae69ce5eb9c1911bbe321ecb24080d883"
  },
  "kernelspec": {
   "display_name": "Python 3.9.10 ('base')",
   "language": "python",
   "name": "python3"
  },
  "language_info": {
   "codemirror_mode": {
    "name": "ipython",
    "version": 3
   },
   "file_extension": ".py",
   "mimetype": "text/x-python",
   "name": "python",
   "nbconvert_exporter": "python",
   "pygments_lexer": "ipython3",
   "version": "3.10.6"
  },
  "orig_nbformat": 4
 },
 "nbformat": 4,
 "nbformat_minor": 2
}
