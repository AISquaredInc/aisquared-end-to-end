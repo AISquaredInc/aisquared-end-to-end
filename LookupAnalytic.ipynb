{
 "cells": [
  {
   "cell_type": "markdown",
   "metadata": {},
   "source": [
    "# Deploying a Lookup Analytic in the Browser\n",
    "\n",
    "In this notebook, we will show how to create a `.air` file to perform a simple lookup of analytic results from an analytic that has already been run.  To do this, we will create a simple example which will utilize a regular expression to identify strings of digits which could potentially be phone numbers.  Once those are identified, the phone numbers will be stripped of all punctuation (characters such as parentheses and hyphens) and looked up in a fictional customer database to see if there is any additional information about that customer."
   ]
  },
  {
   "cell_type": "markdown",
   "metadata": {},
   "source": [
    "## Dependencies\n",
    "\n",
    "For this notebook, the following dependencies are required:\n",
    "\n",
    "- `aisquared`\n",
    "\n",
    "This package is avilable on on [pypi](https://pypi.org) via `pip`.  The following cell also runs the commands to install this dependency as well as imports them into the notebook environment."
   ]
  },
  {
   "cell_type": "code",
   "execution_count": null,
   "metadata": {},
   "outputs": [],
   "source": [
    "! pip install aisquared\n",
    "\n",
    "import aisquared\n",
    "import json"
   ]
  },
  {
   "cell_type": "markdown",
   "metadata": {},
   "source": [
    "## Analytic Creation\n",
    "\n",
    "Now that the required packages have been installed and imported, it is time to create the results of the analytic.  These results are going to be recorded in JSON form via a Python dictionary, with the top-level key being the digits of the phone number and the lower-level keys being the associated individual's name and customer ID.\n",
    "\n",
    "This dictionary will then be saved to a JSON file, and we will then configure the `.air` file configuration around it."
   ]
  },
  {
   "cell_type": "code",
   "execution_count": null,
   "metadata": {},
   "outputs": [],
   "source": [
    "# Configure the example results\n",
    "\n",
    "results = {\n",
    "    '1111111111' : {\n",
    "        'name' : 'John Doe',\n",
    "        'customerID' : 11111\n",
    "    },\n",
    "    '2222222222' : {\n",
    "        'name' : 'Jane Doe',\n",
    "        'customerID' : 22222\n",
    "    },\n",
    "    '3333333333' : {\n",
    "        'name' : 'Alice Doe',\n",
    "        'customerID' : 33333\n",
    "    },\n",
    "    '4444444444' : {\n",
    "        'name' : 'Bob Doe',\n",
    "        'customerID' : 44444\n",
    "    },\n",
    "    '5555555555' : {\n",
    "        'name' : 'Charlie Doe',\n",
    "        'customerID' : 55555\n",
    "    },\n",
    "    '6666666666' : {\n",
    "        'name' : 'Denise Doe',\n",
    "        'customerID' : 66666\n",
    "    },\n",
    "    '7777777777' : {\n",
    "        'name' : 'Evan Doe',\n",
    "        'customerID' : 77777\n",
    "    },\n",
    "    '8888888888' : {\n",
    "        'name' : 'Frank Doe',\n",
    "        'customerID' : 88888\n",
    "    },\n",
    "    '9999999999' : {\n",
    "        'name' : 'Gregory Doe',\n",
    "        'customerID' : 99999\n",
    "    }\n",
    "}\n",
    "\n",
    "# Save the analytic as a JSON file\n",
    "file_name = 'analytic.json'\n",
    "with open(file_name, 'w') as f:\n",
    "    json.dump(results, f)"
   ]
  },
  {
   "cell_type": "markdown",
   "metadata": {},
   "source": [
    "## Create the ModelConfiguration\n",
    "\n",
    "In the following cell, we configure the harvesting, preprocessing, analytic, postprocessing, and rendering steps.  Once those are created, we add them all to the `ModelConfiguration` object and compile them into the `.air` file."
   ]
  },
  {
   "cell_type": "code",
   "execution_count": null,
   "metadata": {},
   "outputs": [],
   "source": [
    "# Harvesting\n",
    "\n",
    "# For harvesting, we need to harvest using a regular expression\n",
    "# that identifies possible phone numbers.  The following lines of \n",
    "# code configure such harvesting\n",
    "\n",
    "regex = '/^[\\.-)( ]*([0-9]{3})[\\.-)( ]*([0-9]{3})[\\.-)( ]*([0-9]{4})$/'\n",
    "harvester = aisquared.config.harvesting.TextHarvester(\n",
    "    how = 'regex',\n",
    "    regex = regex\n",
    ")"
   ]
  },
  {
   "cell_type": "code",
   "execution_count": null,
   "metadata": {},
   "outputs": [],
   "source": [
    "# Preprocessing\n",
    "\n",
    "# The only preprocessing step that has to be conducted is the \n",
    "# removal of all punctuation, since the phone numbers in the \n",
    "# analytic JSON are all strictly digits\n",
    "\n",
    "step = aisquared.config.preprocessing.text.RemoveCharacters(\n",
    "    remove_digits = False,\n",
    "    remove_punctuation = True\n",
    ")\n",
    "preprocesser = aisquared.config.preprocessing.text.TextPreprocessor()\n",
    "preprocesser.add_step(step)"
   ]
  },
  {
   "cell_type": "code",
   "execution_count": null,
   "metadata": {},
   "outputs": [],
   "source": [
    "# Analytic\n",
    "\n",
    "# The analytic for this configuration is going to be a LocalAnalytic\n",
    "# class, where we pass the saved file to the object\n",
    "\n",
    "analytic = aisquared.config.analytic.LocalAnalytic(file_name, input_type = 'text')"
   ]
  },
  {
   "cell_type": "code",
   "execution_count": null,
   "metadata": {},
   "outputs": [],
   "source": [
    "# Postprocessing\n",
    "\n",
    "# No postprocessing steps are needed, so we can set that value to None\n",
    "\n",
    "postprocesser = None"
   ]
  },
  {
   "cell_type": "code",
   "execution_count": null,
   "metadata": {},
   "outputs": [],
   "source": [
    "# Rendering\n",
    "\n",
    "# To render results, we are going to use the WordRendering class to\n",
    "# initialize the rendering of badges for individual words. By default,\n",
    "# the WordRendering class renders the specific words/tokens that were\n",
    "# input into the analytics\n",
    "\n",
    "renderer = aisquared.config.rendering.WordRendering()"
   ]
  },
  {
   "cell_type": "code",
   "execution_count": null,
   "metadata": {},
   "outputs": [],
   "source": [
    "# Putting it all together\n",
    "\n",
    "# Finally, we will take the previous objects and put them all \n",
    "# together into a single ModelConfiguration object, which is then \n",
    "# compiled into the .air file\n",
    "\n",
    "config = aisquared.config.ModelConfiguration(\n",
    "    name = 'PhoneNumberLookup',\n",
    "    harvesting_steps = harvester,\n",
    "    preprocessing_steps = preprocesser,\n",
    "    analytic = analytic,\n",
    "    postprocessing_steps = postprocesser,\n",
    "    rendering_steps = renderer,\n",
    "    version = None,\n",
    "    description = 'Phone number lookup which shows name and customer ID (if present) for phone numbers found',\n",
    "    mlflow_uri = None,\n",
    "    mlflow_user = None,\n",
    "    mlflow_token = None\n",
    ")\n",
    "\n",
    "# compile to create .air file\n",
    "config.compile()"
   ]
  }
 ],
 "metadata": {
  "interpreter": {
   "hash": "0671325c08d22fc44ce2e58aedbf8efae69ce5eb9c1911bbe321ecb24080d883"
  },
  "kernelspec": {
   "display_name": "Python 3.9.10 ('base')",
   "language": "python",
   "name": "python3"
  },
  "language_info": {
   "codemirror_mode": {
    "name": "ipython",
    "version": 3
   },
   "file_extension": ".py",
   "mimetype": "text/x-python",
   "name": "python",
   "nbconvert_exporter": "python",
   "pygments_lexer": "ipython3",
   "version": "3.10.6"
  },
  "orig_nbformat": 4
 },
 "nbformat": 4,
 "nbformat_minor": 2
}
