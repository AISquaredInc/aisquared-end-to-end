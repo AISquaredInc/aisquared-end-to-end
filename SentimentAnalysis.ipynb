{
 "cells": [
  {
   "cell_type": "markdown",
   "metadata": {},
   "source": [
    "# Sentiment Analysis in the Browser\n",
    "\n",
    "In this notebook, we will show how to create a `.air` file to perform sentiment analysis in the browser using a neural network.  To do this, we will utilize the IMDB Movie Reviews dataset to build the initial model, prune the model using the `mann` package, and then package the model using the `aisquared` Python SDK."
   ]
  },
  {
   "cell_type": "markdown",
   "metadata": {},
   "source": [
    "## Dependencies\n",
    "\n",
    "For this notebook, the following dependencies are required:\n",
    "\n",
    "- `mann`\n",
    "- `aisquared`\n",
    "\n",
    "Both of these are available on [pypi](https://pypi.org) via `pip`.  The following cell also runs the commands to install these dependencies as well as imports them into the notebook environment, along with TensorFlow (which is a dependency of the `mann` package)."
   ]
  },
  {
   "cell_type": "code",
   "execution_count": 1,
   "metadata": {},
   "outputs": [
    {
     "name": "stdout",
     "output_type": "stream",
     "text": [
      "Requirement already satisfied: mann in /Users/jwrenn4/miniforge3/lib/python3.9/site-packages (0.2.1)\n",
      "Requirement already satisfied: tensorflow>=2.4 in /Users/jwrenn4/miniforge3/lib/python3.9/site-packages (from mann) (2.6.2)\n",
      "Requirement already satisfied: wrapt~=1.12.1 in /Users/jwrenn4/miniforge3/lib/python3.9/site-packages (from tensorflow>=2.4->mann) (1.12.1)\n",
      "Requirement already satisfied: keras-preprocessing~=1.1.2 in /Users/jwrenn4/miniforge3/lib/python3.9/site-packages (from tensorflow>=2.4->mann) (1.1.2)\n",
      "Requirement already satisfied: protobuf>=3.9.2 in /Users/jwrenn4/miniforge3/lib/python3.9/site-packages (from tensorflow>=2.4->mann) (3.18.1)\n",
      "Requirement already satisfied: astunparse~=1.6.3 in /Users/jwrenn4/miniforge3/lib/python3.9/site-packages (from tensorflow>=2.4->mann) (1.6.3)\n",
      "Requirement already satisfied: google-pasta~=0.2 in /Users/jwrenn4/miniforge3/lib/python3.9/site-packages (from tensorflow>=2.4->mann) (0.2.0)\n",
      "Requirement already satisfied: tensorflow-estimator<2.7,>=2.6.0 in /Users/jwrenn4/miniforge3/lib/python3.9/site-packages (from tensorflow>=2.4->mann) (2.6.0)\n",
      "Requirement already satisfied: opt-einsum~=3.3.0 in /Users/jwrenn4/miniforge3/lib/python3.9/site-packages (from tensorflow>=2.4->mann) (3.3.0)\n",
      "Requirement already satisfied: flatbuffers~=1.12.0 in /Users/jwrenn4/miniforge3/lib/python3.9/site-packages (from tensorflow>=2.4->mann) (1.12)\n",
      "Requirement already satisfied: tensorboard<2.7,>=2.6.0 in /Users/jwrenn4/miniforge3/lib/python3.9/site-packages (from tensorflow>=2.4->mann) (2.6.0)\n",
      "Requirement already satisfied: gast==0.4.0 in /Users/jwrenn4/miniforge3/lib/python3.9/site-packages (from tensorflow>=2.4->mann) (0.4.0)\n",
      "Requirement already satisfied: termcolor~=1.1.0 in /Users/jwrenn4/miniforge3/lib/python3.9/site-packages (from tensorflow>=2.4->mann) (1.1.0)\n",
      "Requirement already satisfied: typing-extensions~=3.7.4 in /Users/jwrenn4/miniforge3/lib/python3.9/site-packages (from tensorflow>=2.4->mann) (3.7.4.3)\n",
      "Requirement already satisfied: six>=1.15.0 in /Users/jwrenn4/miniforge3/lib/python3.9/site-packages (from tensorflow>=2.4->mann) (1.15.0)\n",
      "Requirement already satisfied: keras<2.7,>=2.6.0 in /Users/jwrenn4/miniforge3/lib/python3.9/site-packages (from tensorflow>=2.4->mann) (2.6.0)\n",
      "Requirement already satisfied: h5py~=3.1.0 in /Users/jwrenn4/miniforge3/lib/python3.9/site-packages (from tensorflow>=2.4->mann) (3.1.0)\n",
      "Requirement already satisfied: wheel~=0.35 in /Users/jwrenn4/miniforge3/lib/python3.9/site-packages (from tensorflow>=2.4->mann) (0.37.1)\n",
      "Requirement already satisfied: absl-py~=0.10 in /Users/jwrenn4/miniforge3/lib/python3.9/site-packages (from tensorflow>=2.4->mann) (0.15.0)\n",
      "Requirement already satisfied: numpy~=1.19.2 in /Users/jwrenn4/miniforge3/lib/python3.9/site-packages (from tensorflow>=2.4->mann) (1.19.5)\n",
      "Requirement already satisfied: grpcio<2.0,>=1.42 in /Users/jwrenn4/miniforge3/lib/python3.9/site-packages (from tensorflow>=2.4->mann) (1.42.0)\n",
      "Requirement already satisfied: requests<3,>=2.21.0 in /Users/jwrenn4/miniforge3/lib/python3.9/site-packages (from tensorboard<2.7,>=2.6.0->tensorflow>=2.4->mann) (2.27.1)\n",
      "Requirement already satisfied: markdown>=2.6.8 in /Users/jwrenn4/miniforge3/lib/python3.9/site-packages (from tensorboard<2.7,>=2.6.0->tensorflow>=2.4->mann) (3.3.6)\n",
      "Requirement already satisfied: google-auth<2,>=1.6.3 in /Users/jwrenn4/miniforge3/lib/python3.9/site-packages (from tensorboard<2.7,>=2.6.0->tensorflow>=2.4->mann) (1.35.0)\n",
      "Requirement already satisfied: google-auth-oauthlib<0.5,>=0.4.1 in /Users/jwrenn4/miniforge3/lib/python3.9/site-packages (from tensorboard<2.7,>=2.6.0->tensorflow>=2.4->mann) (0.4.6)\n",
      "Requirement already satisfied: tensorboard-data-server<0.7.0,>=0.6.0 in /Users/jwrenn4/miniforge3/lib/python3.9/site-packages (from tensorboard<2.7,>=2.6.0->tensorflow>=2.4->mann) (0.6.0)\n",
      "Requirement already satisfied: tensorboard-plugin-wit>=1.6.0 in /Users/jwrenn4/miniforge3/lib/python3.9/site-packages (from tensorboard<2.7,>=2.6.0->tensorflow>=2.4->mann) (1.8.1)\n",
      "Requirement already satisfied: setuptools>=41.0.0 in /Users/jwrenn4/miniforge3/lib/python3.9/site-packages (from tensorboard<2.7,>=2.6.0->tensorflow>=2.4->mann) (60.9.3)\n",
      "Requirement already satisfied: werkzeug>=0.11.15 in /Users/jwrenn4/miniforge3/lib/python3.9/site-packages (from tensorboard<2.7,>=2.6.0->tensorflow>=2.4->mann) (2.0.3)\n",
      "Requirement already satisfied: pyasn1-modules>=0.2.1 in /Users/jwrenn4/miniforge3/lib/python3.9/site-packages (from google-auth<2,>=1.6.3->tensorboard<2.7,>=2.6.0->tensorflow>=2.4->mann) (0.2.7)\n",
      "Requirement already satisfied: rsa<5,>=3.1.4 in /Users/jwrenn4/miniforge3/lib/python3.9/site-packages (from google-auth<2,>=1.6.3->tensorboard<2.7,>=2.6.0->tensorflow>=2.4->mann) (4.8)\n",
      "Requirement already satisfied: cachetools<5.0,>=2.0.0 in /Users/jwrenn4/miniforge3/lib/python3.9/site-packages (from google-auth<2,>=1.6.3->tensorboard<2.7,>=2.6.0->tensorflow>=2.4->mann) (4.2.4)\n",
      "Requirement already satisfied: requests-oauthlib>=0.7.0 in /Users/jwrenn4/miniforge3/lib/python3.9/site-packages (from google-auth-oauthlib<0.5,>=0.4.1->tensorboard<2.7,>=2.6.0->tensorflow>=2.4->mann) (1.3.1)\n",
      "Requirement already satisfied: importlib-metadata>=4.4 in /Users/jwrenn4/miniforge3/lib/python3.9/site-packages (from markdown>=2.6.8->tensorboard<2.7,>=2.6.0->tensorflow>=2.4->mann) (4.11.2)\n",
      "Requirement already satisfied: certifi>=2017.4.17 in /Users/jwrenn4/miniforge3/lib/python3.9/site-packages (from requests<3,>=2.21.0->tensorboard<2.7,>=2.6.0->tensorflow>=2.4->mann) (2021.10.8)\n",
      "Requirement already satisfied: charset-normalizer~=2.0.0 in /Users/jwrenn4/miniforge3/lib/python3.9/site-packages (from requests<3,>=2.21.0->tensorboard<2.7,>=2.6.0->tensorflow>=2.4->mann) (2.0.12)\n",
      "Requirement already satisfied: idna<4,>=2.5 in /Users/jwrenn4/miniforge3/lib/python3.9/site-packages (from requests<3,>=2.21.0->tensorboard<2.7,>=2.6.0->tensorflow>=2.4->mann) (3.3)\n",
      "Requirement already satisfied: urllib3<1.27,>=1.21.1 in /Users/jwrenn4/miniforge3/lib/python3.9/site-packages (from requests<3,>=2.21.0->tensorboard<2.7,>=2.6.0->tensorflow>=2.4->mann) (1.26.8)\n",
      "Requirement already satisfied: zipp>=0.5 in /Users/jwrenn4/miniforge3/lib/python3.9/site-packages (from importlib-metadata>=4.4->markdown>=2.6.8->tensorboard<2.7,>=2.6.0->tensorflow>=2.4->mann) (3.7.0)\n",
      "Requirement already satisfied: pyasn1<0.5.0,>=0.4.6 in /Users/jwrenn4/miniforge3/lib/python3.9/site-packages (from pyasn1-modules>=0.2.1->google-auth<2,>=1.6.3->tensorboard<2.7,>=2.6.0->tensorflow>=2.4->mann) (0.4.8)\n",
      "Requirement already satisfied: oauthlib>=3.0.0 in /Users/jwrenn4/miniforge3/lib/python3.9/site-packages (from requests-oauthlib>=0.7.0->google-auth-oauthlib<0.5,>=0.4.1->tensorboard<2.7,>=2.6.0->tensorflow>=2.4->mann) (3.2.0)\n",
      "Requirement already satisfied: aisquared in /Users/jwrenn4/miniforge3/lib/python3.9/site-packages (0.1.2.dev2)\n",
      "Requirement already satisfied: boto3 in /Users/jwrenn4/miniforge3/lib/python3.9/site-packages (from aisquared) (1.21.10)\n",
      "Requirement already satisfied: tensorflowjs in /Users/jwrenn4/miniforge3/lib/python3.9/site-packages (from aisquared) (3.13.0)\n",
      "Requirement already satisfied: s3transfer<0.6.0,>=0.5.0 in /Users/jwrenn4/miniforge3/lib/python3.9/site-packages (from boto3->aisquared) (0.5.2)\n",
      "Requirement already satisfied: botocore<1.25.0,>=1.24.10 in /Users/jwrenn4/miniforge3/lib/python3.9/site-packages (from boto3->aisquared) (1.24.10)\n",
      "Requirement already satisfied: jmespath<1.0.0,>=0.7.1 in /Users/jwrenn4/miniforge3/lib/python3.9/site-packages (from boto3->aisquared) (0.10.0)\n",
      "Requirement already satisfied: six<2,>=1.12.0 in /Users/jwrenn4/miniforge3/lib/python3.9/site-packages (from tensorflowjs->aisquared) (1.15.0)\n",
      "Requirement already satisfied: tensorflow<3,>=2.1.0 in /Users/jwrenn4/miniforge3/lib/python3.9/site-packages (from tensorflowjs->aisquared) (2.6.2)\n",
      "Requirement already satisfied: tensorflow-hub<0.13,>=0.7.0 in /Users/jwrenn4/miniforge3/lib/python3.9/site-packages (from tensorflowjs->aisquared) (0.12.0)\n",
      "Requirement already satisfied: urllib3<1.27,>=1.25.4 in /Users/jwrenn4/miniforge3/lib/python3.9/site-packages (from botocore<1.25.0,>=1.24.10->boto3->aisquared) (1.26.8)\n",
      "Requirement already satisfied: python-dateutil<3.0.0,>=2.1 in /Users/jwrenn4/miniforge3/lib/python3.9/site-packages (from botocore<1.25.0,>=1.24.10->boto3->aisquared) (2.8.2)\n",
      "Requirement already satisfied: typing-extensions~=3.7.4 in /Users/jwrenn4/miniforge3/lib/python3.9/site-packages (from tensorflow<3,>=2.1.0->tensorflowjs->aisquared) (3.7.4.3)\n",
      "Requirement already satisfied: protobuf>=3.9.2 in /Users/jwrenn4/miniforge3/lib/python3.9/site-packages (from tensorflow<3,>=2.1.0->tensorflowjs->aisquared) (3.18.1)\n",
      "Requirement already satisfied: termcolor~=1.1.0 in /Users/jwrenn4/miniforge3/lib/python3.9/site-packages (from tensorflow<3,>=2.1.0->tensorflowjs->aisquared) (1.1.0)\n",
      "Requirement already satisfied: keras-preprocessing~=1.1.2 in /Users/jwrenn4/miniforge3/lib/python3.9/site-packages (from tensorflow<3,>=2.1.0->tensorflowjs->aisquared) (1.1.2)\n",
      "Requirement already satisfied: opt-einsum~=3.3.0 in /Users/jwrenn4/miniforge3/lib/python3.9/site-packages (from tensorflow<3,>=2.1.0->tensorflowjs->aisquared) (3.3.0)\n",
      "Requirement already satisfied: h5py~=3.1.0 in /Users/jwrenn4/miniforge3/lib/python3.9/site-packages (from tensorflow<3,>=2.1.0->tensorflowjs->aisquared) (3.1.0)\n",
      "Requirement already satisfied: numpy~=1.19.2 in /Users/jwrenn4/miniforge3/lib/python3.9/site-packages (from tensorflow<3,>=2.1.0->tensorflowjs->aisquared) (1.19.5)\n",
      "Requirement already satisfied: keras<2.7,>=2.6.0 in /Users/jwrenn4/miniforge3/lib/python3.9/site-packages (from tensorflow<3,>=2.1.0->tensorflowjs->aisquared) (2.6.0)\n",
      "Requirement already satisfied: wrapt~=1.12.1 in /Users/jwrenn4/miniforge3/lib/python3.9/site-packages (from tensorflow<3,>=2.1.0->tensorflowjs->aisquared) (1.12.1)\n",
      "Requirement already satisfied: google-pasta~=0.2 in /Users/jwrenn4/miniforge3/lib/python3.9/site-packages (from tensorflow<3,>=2.1.0->tensorflowjs->aisquared) (0.2.0)\n",
      "Requirement already satisfied: tensorboard<2.7,>=2.6.0 in /Users/jwrenn4/miniforge3/lib/python3.9/site-packages (from tensorflow<3,>=2.1.0->tensorflowjs->aisquared) (2.6.0)\n",
      "Requirement already satisfied: wheel~=0.35 in /Users/jwrenn4/miniforge3/lib/python3.9/site-packages (from tensorflow<3,>=2.1.0->tensorflowjs->aisquared) (0.37.1)\n",
      "Requirement already satisfied: absl-py~=0.10 in /Users/jwrenn4/miniforge3/lib/python3.9/site-packages (from tensorflow<3,>=2.1.0->tensorflowjs->aisquared) (0.15.0)\n",
      "Requirement already satisfied: gast==0.4.0 in /Users/jwrenn4/miniforge3/lib/python3.9/site-packages (from tensorflow<3,>=2.1.0->tensorflowjs->aisquared) (0.4.0)\n",
      "Requirement already satisfied: grpcio<2.0,>=1.42 in /Users/jwrenn4/miniforge3/lib/python3.9/site-packages (from tensorflow<3,>=2.1.0->tensorflowjs->aisquared) (1.42.0)\n",
      "Requirement already satisfied: astunparse~=1.6.3 in /Users/jwrenn4/miniforge3/lib/python3.9/site-packages (from tensorflow<3,>=2.1.0->tensorflowjs->aisquared) (1.6.3)\n",
      "Requirement already satisfied: tensorflow-estimator<2.7,>=2.6.0 in /Users/jwrenn4/miniforge3/lib/python3.9/site-packages (from tensorflow<3,>=2.1.0->tensorflowjs->aisquared) (2.6.0)\n",
      "Requirement already satisfied: flatbuffers~=1.12.0 in /Users/jwrenn4/miniforge3/lib/python3.9/site-packages (from tensorflow<3,>=2.1.0->tensorflowjs->aisquared) (1.12)\n",
      "Requirement already satisfied: tensorboard-plugin-wit>=1.6.0 in /Users/jwrenn4/miniforge3/lib/python3.9/site-packages (from tensorboard<2.7,>=2.6.0->tensorflow<3,>=2.1.0->tensorflowjs->aisquared) (1.8.1)\n",
      "Requirement already satisfied: tensorboard-data-server<0.7.0,>=0.6.0 in /Users/jwrenn4/miniforge3/lib/python3.9/site-packages (from tensorboard<2.7,>=2.6.0->tensorflow<3,>=2.1.0->tensorflowjs->aisquared) (0.6.0)\n",
      "Requirement already satisfied: google-auth-oauthlib<0.5,>=0.4.1 in /Users/jwrenn4/miniforge3/lib/python3.9/site-packages (from tensorboard<2.7,>=2.6.0->tensorflow<3,>=2.1.0->tensorflowjs->aisquared) (0.4.6)\n",
      "Requirement already satisfied: requests<3,>=2.21.0 in /Users/jwrenn4/miniforge3/lib/python3.9/site-packages (from tensorboard<2.7,>=2.6.0->tensorflow<3,>=2.1.0->tensorflowjs->aisquared) (2.27.1)\n",
      "Requirement already satisfied: setuptools>=41.0.0 in /Users/jwrenn4/miniforge3/lib/python3.9/site-packages (from tensorboard<2.7,>=2.6.0->tensorflow<3,>=2.1.0->tensorflowjs->aisquared) (60.9.3)\n",
      "Requirement already satisfied: google-auth<2,>=1.6.3 in /Users/jwrenn4/miniforge3/lib/python3.9/site-packages (from tensorboard<2.7,>=2.6.0->tensorflow<3,>=2.1.0->tensorflowjs->aisquared) (1.35.0)\n",
      "Requirement already satisfied: werkzeug>=0.11.15 in /Users/jwrenn4/miniforge3/lib/python3.9/site-packages (from tensorboard<2.7,>=2.6.0->tensorflow<3,>=2.1.0->tensorflowjs->aisquared) (2.0.3)\n",
      "Requirement already satisfied: markdown>=2.6.8 in /Users/jwrenn4/miniforge3/lib/python3.9/site-packages (from tensorboard<2.7,>=2.6.0->tensorflow<3,>=2.1.0->tensorflowjs->aisquared) (3.3.6)\n",
      "Requirement already satisfied: cachetools<5.0,>=2.0.0 in /Users/jwrenn4/miniforge3/lib/python3.9/site-packages (from google-auth<2,>=1.6.3->tensorboard<2.7,>=2.6.0->tensorflow<3,>=2.1.0->tensorflowjs->aisquared) (4.2.4)\n",
      "Requirement already satisfied: rsa<5,>=3.1.4 in /Users/jwrenn4/miniforge3/lib/python3.9/site-packages (from google-auth<2,>=1.6.3->tensorboard<2.7,>=2.6.0->tensorflow<3,>=2.1.0->tensorflowjs->aisquared) (4.8)\n",
      "Requirement already satisfied: pyasn1-modules>=0.2.1 in /Users/jwrenn4/miniforge3/lib/python3.9/site-packages (from google-auth<2,>=1.6.3->tensorboard<2.7,>=2.6.0->tensorflow<3,>=2.1.0->tensorflowjs->aisquared) (0.2.7)\n",
      "Requirement already satisfied: requests-oauthlib>=0.7.0 in /Users/jwrenn4/miniforge3/lib/python3.9/site-packages (from google-auth-oauthlib<0.5,>=0.4.1->tensorboard<2.7,>=2.6.0->tensorflow<3,>=2.1.0->tensorflowjs->aisquared) (1.3.1)\n",
      "Requirement already satisfied: importlib-metadata>=4.4 in /Users/jwrenn4/miniforge3/lib/python3.9/site-packages (from markdown>=2.6.8->tensorboard<2.7,>=2.6.0->tensorflow<3,>=2.1.0->tensorflowjs->aisquared) (4.11.2)\n",
      "Requirement already satisfied: certifi>=2017.4.17 in /Users/jwrenn4/miniforge3/lib/python3.9/site-packages (from requests<3,>=2.21.0->tensorboard<2.7,>=2.6.0->tensorflow<3,>=2.1.0->tensorflowjs->aisquared) (2021.10.8)\n",
      "Requirement already satisfied: charset-normalizer~=2.0.0 in /Users/jwrenn4/miniforge3/lib/python3.9/site-packages (from requests<3,>=2.21.0->tensorboard<2.7,>=2.6.0->tensorflow<3,>=2.1.0->tensorflowjs->aisquared) (2.0.12)\n",
      "Requirement already satisfied: idna<4,>=2.5 in /Users/jwrenn4/miniforge3/lib/python3.9/site-packages (from requests<3,>=2.21.0->tensorboard<2.7,>=2.6.0->tensorflow<3,>=2.1.0->tensorflowjs->aisquared) (3.3)\n",
      "Requirement already satisfied: zipp>=0.5 in /Users/jwrenn4/miniforge3/lib/python3.9/site-packages (from importlib-metadata>=4.4->markdown>=2.6.8->tensorboard<2.7,>=2.6.0->tensorflow<3,>=2.1.0->tensorflowjs->aisquared) (3.7.0)\n",
      "Requirement already satisfied: pyasn1<0.5.0,>=0.4.6 in /Users/jwrenn4/miniforge3/lib/python3.9/site-packages (from pyasn1-modules>=0.2.1->google-auth<2,>=1.6.3->tensorboard<2.7,>=2.6.0->tensorflow<3,>=2.1.0->tensorflowjs->aisquared) (0.4.8)\n",
      "Requirement already satisfied: oauthlib>=3.0.0 in /Users/jwrenn4/miniforge3/lib/python3.9/site-packages (from requests-oauthlib>=0.7.0->google-auth-oauthlib<0.5,>=0.4.1->tensorboard<2.7,>=2.6.0->tensorflow<3,>=2.1.0->tensorflowjs->aisquared) (3.2.0)\n"
     ]
    }
   ],
   "source": [
    "! pip install mann\n",
    "! pip install aisquared\n",
    "\n",
    "from sklearn.metrics import classification_report, confusion_matrix\n",
    "import tensorflow as tf\n",
    "import aisquared\n",
    "import mann"
   ]
  },
  {
   "cell_type": "markdown",
   "metadata": {},
   "source": [
    "## Model Creation\n",
    "\n",
    "Now that the required packages have been installed and imported, it is time to create the sentiment analysis model.  To do this, we have to first download and preprocess the data, create the model, prune the model so that it can perform well in the browser, and then package the model in the `.air` format.  The following cells will go through an in-depth explanation of each of the steps in this process."
   ]
  },
  {
   "cell_type": "code",
   "execution_count": 2,
   "metadata": {},
   "outputs": [],
   "source": [
    "# Loading the data\n",
    "\n",
    "(x_train, y_train), (x_test, y_test) = tf.keras.datasets.imdb.load_data(\n",
    "    num_words = 10000,\n",
    "    skip_top = 0,\n",
    "    start_char = 1,\n",
    "    oov_char = 2,\n",
    "    index_from = 3\n",
    ")\n",
    "x_train = tf.keras.preprocessing.sequence.pad_sequences(\n",
    "    x_train,\n",
    "    maxlen = 512,\n",
    "    padding = 'post',\n",
    "    truncating = 'post'\n",
    ")\n",
    "x_test = tf.keras.preprocessing.sequence.pad_sequences(\n",
    "    x_test,\n",
    "    maxlen = 512,\n",
    "    padding = 'post',\n",
    "    truncating = 'post'\n",
    ")\n",
    "\n",
    "# Get the vocabulary\n",
    "vocab = tf.keras.datasets.imdb.get_word_index()\n",
    "\n",
    "# Add 2 to each vocab value to ensure matching with the needed values\n",
    "vocab = {\n",
    "    k : v + 2 for k, v in vocab.items()\n",
    "}\n"
   ]
  },
  {
   "cell_type": "code",
   "execution_count": 3,
   "metadata": {},
   "outputs": [
    {
     "name": "stdout",
     "output_type": "stream",
     "text": [
      "Metal device set to: Apple M1\n",
      "\n",
      "systemMemory: 16.00 GB\n",
      "maxCacheSize: 5.33 GB\n",
      "\n",
      "Model: \"model\"\n",
      "_________________________________________________________________\n",
      "Layer (type)                 Output Shape              Param #   \n",
      "=================================================================\n",
      "input_1 (InputLayer)         [(None, 512)]             0         \n",
      "_________________________________________________________________\n",
      "embedding (Embedding)        (None, 512, 4)            40000     \n",
      "_________________________________________________________________\n",
      "flatten (Flatten)            (None, 2048)              0         \n",
      "_________________________________________________________________\n",
      "masked_dense (MaskedDense)   (None, 1000)              4098000   \n",
      "_________________________________________________________________\n",
      "masked_dense_1 (MaskedDense) (None, 1000)              2002000   \n",
      "_________________________________________________________________\n",
      "masked_dense_2 (MaskedDense) (None, 1000)              2002000   \n",
      "_________________________________________________________________\n",
      "masked_dense_3 (MaskedDense) (None, 1000)              2002000   \n",
      "_________________________________________________________________\n",
      "masked_dense_4 (MaskedDense) (None, 1000)              2002000   \n",
      "_________________________________________________________________\n",
      "masked_dense_5 (MaskedDense) (None, 1)                 2002      \n",
      "=================================================================\n",
      "Total params: 12,148,002\n",
      "Trainable params: 6,094,001\n",
      "Non-trainable params: 6,054,001\n",
      "_________________________________________________________________\n"
     ]
    },
    {
     "name": "stderr",
     "output_type": "stream",
     "text": [
      "2022-03-03 12:10:39.289509: I tensorflow/core/common_runtime/pluggable_device/pluggable_device_factory.cc:305] Could not identify NUMA node of platform GPU ID 0, defaulting to 0. Your kernel may not have been built with NUMA support.\n",
      "2022-03-03 12:10:39.289644: I tensorflow/core/common_runtime/pluggable_device/pluggable_device_factory.cc:271] Created TensorFlow device (/job:localhost/replica:0/task:0/device:GPU:0 with 0 MB memory) -> physical PluggableDevice (device: 0, name: METAL, pci bus id: <undefined>)\n"
     ]
    }
   ],
   "source": [
    "# Create the model\n",
    "\n",
    "input_layer = tf.keras.layers.Input(x_train.shape[1:])\n",
    "embedding_layer = tf.keras.layers.Embedding(\n",
    "    10000,\n",
    "    4\n",
    ")(input_layer)\n",
    "x = tf.keras.layers.Flatten()(embedding_layer)\n",
    "for _ in range(5):\n",
    "    x = mann.layers.MaskedDense(1000, activation = 'relu')(x)\n",
    "output_layer = mann.layers.MaskedDense(1, activation = 'sigmoid')(x)\n",
    "\n",
    "model = tf.keras.models.Model(input_layer, output_layer)\n",
    "model.compile(loss = 'binary_crossentropy', optimizer = 'adam', metrics = ['accuracy'])\n",
    "model.summary()"
   ]
  },
  {
   "cell_type": "code",
   "execution_count": 4,
   "metadata": {},
   "outputs": [
    {
     "name": "stderr",
     "output_type": "stream",
     "text": [
      "2022-03-03 12:10:50.868761: I tensorflow/compiler/mlir/mlir_graph_optimization_pass.cc:185] None of the MLIR Optimization Passes are enabled (registered 2)\n",
      "2022-03-03 12:10:50.868933: W tensorflow/core/platform/profile_utils/cpu_utils.cc:128] Failed to get CPU frequency: 0 Hz\n"
     ]
    },
    {
     "name": "stdout",
     "output_type": "stream",
     "text": [
      "Epoch 1/1000\n"
     ]
    },
    {
     "ename": "InvalidArgumentError",
     "evalue": "Cannot assign a device for operation model/embedding/embedding_lookup: Could not satisfy explicit device specification '/job:localhost/replica:0/task:0/device:GPU:0' because no supported kernel for GPU devices is available.\nColocation Debug Info:\nColocation group had the following types and supported devices: \nRoot Member(assigned_device_name_index_=2 requested_device_name_='/job:localhost/replica:0/task:0/device:GPU:0' assigned_device_name_='/job:localhost/replica:0/task:0/device:GPU:0' resource_device_name_='/job:localhost/replica:0/task:0/device:GPU:0' supported_device_types_=[CPU] possible_devices_=[]\nAssignSubVariableOp: GPU CPU \nRealDiv: GPU CPU \nSqrt: GPU CPU \nAssignVariableOp: GPU CPU \nUnsortedSegmentSum: GPU CPU \nIdentity: GPU CPU \nStridedSlice: CPU \nConst: GPU CPU \nNoOp: GPU CPU \nMul: GPU CPU \nShape: GPU CPU \n_Arg: GPU CPU \nResourceScatterAdd: GPU CPU \nUnique: CPU \nReadVariableOp: GPU CPU \nAddV2: GPU CPU \nResourceGather: GPU CPU \n\nColocation members, user-requested devices, and framework assigned devices, if any:\n  model_embedding_embedding_lookup_65233 (_Arg)  framework assigned device=/job:localhost/replica:0/task:0/device:GPU:0\n  adam_adam_update_readvariableop_resource (_Arg)  framework assigned device=/job:localhost/replica:0/task:0/device:GPU:0\n  adam_adam_update_readvariableop_2_resource (_Arg)  framework assigned device=/job:localhost/replica:0/task:0/device:GPU:0\n  model/embedding/embedding_lookup (ResourceGather) /job:localhost/replica:0/task:0/device:GPU:0\n  model/embedding/embedding_lookup/Identity (Identity) /job:localhost/replica:0/task:0/device:GPU:0\n  Adam/Adam/update/Unique (Unique) /job:localhost/replica:0/task:0/device:GPU:0\n  Adam/Adam/update/Shape (Shape) /job:localhost/replica:0/task:0/device:GPU:0\n  Adam/Adam/update/strided_slice/stack (Const) /job:localhost/replica:0/task:0/device:GPU:0\n  Adam/Adam/update/strided_slice/stack_1 (Const) /job:localhost/replica:0/task:0/device:GPU:0\n  Adam/Adam/update/strided_slice/stack_2 (Const) /job:localhost/replica:0/task:0/device:GPU:0\n  Adam/Adam/update/strided_slice (StridedSlice) /job:localhost/replica:0/task:0/device:GPU:0\n  Adam/Adam/update/UnsortedSegmentSum (UnsortedSegmentSum) /job:localhost/replica:0/task:0/device:GPU:0\n  Adam/Adam/update/mul (Mul) /job:localhost/replica:0/task:0/device:GPU:0\n  Adam/Adam/update/ReadVariableOp (ReadVariableOp) \n  Adam/Adam/update/mul_1 (Mul) /job:localhost/replica:0/task:0/device:GPU:0\n  Adam/Adam/update/AssignVariableOp (AssignVariableOp) /job:localhost/replica:0/task:0/device:GPU:0\n  Adam/Adam/update/ResourceScatterAdd (ResourceScatterAdd) /job:localhost/replica:0/task:0/device:GPU:0\n  Adam/Adam/update/ReadVariableOp_1 (ReadVariableOp) \n  Adam/Adam/update/mul_2 (Mul) /job:localhost/replica:0/task:0/device:GPU:0\n  Adam/Adam/update/mul_3 (Mul) /job:localhost/replica:0/task:0/device:GPU:0\n  Adam/Adam/update/ReadVariableOp_2 (ReadVariableOp) \n  Adam/Adam/update/mul_4 (Mul) /job:localhost/replica:0/task:0/device:GPU:0\n  Adam/Adam/update/AssignVariableOp_1 (AssignVariableOp) /job:localhost/replica:0/task:0/device:GPU:0\n  Adam/Adam/update/ResourceScatterAdd_1 (ResourceScatterAdd) /job:localhost/replica:0/task:0/device:GPU:0\n  Adam/Adam/update/ReadVariableOp_3 (ReadVariableOp) \n  Adam/Adam/update/Sqrt (Sqrt) /job:localhost/replica:0/task:0/device:GPU:0\n  Adam/Adam/update/mul_5 (Mul) /job:localhost/replica:0/task:0/device:GPU:0\n  Adam/Adam/update/add (AddV2) /job:localhost/replica:0/task:0/device:GPU:0\n  Adam/Adam/update/truediv (RealDiv) /job:localhost/replica:0/task:0/device:GPU:0\n  Adam/Adam/update/AssignSubVariableOp (AssignSubVariableOp) /job:localhost/replica:0/task:0/device:GPU:0\n  Adam/Adam/update/group_deps/NoOp (NoOp) /job:localhost/replica:0/task:0/device:GPU:0\n  Adam/Adam/update/group_deps/NoOp_1 (NoOp) /job:localhost/replica:0/task:0/device:GPU:0\n  Adam/Adam/update/group_deps (NoOp) /job:localhost/replica:0/task:0/device:GPU:0\n\nOp: ResourceGather\nNode attrs: Tindices=DT_INT32, dtype=DT_FLOAT, batch_dims=0, validate_indices=true, _class=[\"loc:@model/embedding/embedding_lookup/65233\"]\nRegistered kernels:\n  device='XLA_CPU_JIT'; Tindices in [DT_INT32, DT_INT64]; dtype in [DT_FLOAT, DT_DOUBLE, DT_INT32, DT_UINT8, DT_INT16, DT_INT8, DT_COMPLEX64, DT_INT64, DT_BOOL, DT_QINT8, DT_QUINT8, DT_QINT32, DT_BFLOAT16, DT_UINT16, DT_COMPLEX128, DT_HALF, DT_UINT32, DT_UINT64]\n  device='GPU'; dtype in [DT_INT64]; Tindices in [DT_INT32]\n  device='GPU'; dtype in [DT_INT64]; Tindices in [DT_INT64]\n  device='GPU'; dtype in [DT_FLOAT]; Tindices in [DT_INT32]\n  device='GPU'; dtype in [DT_FLOAT]; Tindices in [DT_INT64]\n  device='CPU'; dtype in [DT_UINT64]; Tindices in [DT_INT32]\n  device='CPU'; dtype in [DT_UINT64]; Tindices in [DT_INT64]\n  device='CPU'; dtype in [DT_INT64]; Tindices in [DT_INT32]\n  device='CPU'; dtype in [DT_INT64]; Tindices in [DT_INT64]\n  device='CPU'; dtype in [DT_UINT32]; Tindices in [DT_INT32]\n  device='CPU'; dtype in [DT_UINT32]; Tindices in [DT_INT64]\n  device='CPU'; dtype in [DT_UINT16]; Tindices in [DT_INT32]\n  device='CPU'; dtype in [DT_UINT16]; Tindices in [DT_INT64]\n  device='CPU'; dtype in [DT_INT16]; Tindices in [DT_INT32]\n  device='CPU'; dtype in [DT_INT16]; Tindices in [DT_INT64]\n  device='CPU'; dtype in [DT_UINT8]; Tindices in [DT_INT32]\n  device='CPU'; dtype in [DT_UINT8]; Tindices in [DT_INT64]\n  device='CPU'; dtype in [DT_INT8]; Tindices in [DT_INT32]\n  device='CPU'; dtype in [DT_INT8]; Tindices in [DT_INT64]\n  device='CPU'; dtype in [DT_INT32]; Tindices in [DT_INT32]\n  device='CPU'; dtype in [DT_INT32]; Tindices in [DT_INT64]\n  device='CPU'; dtype in [DT_HALF]; Tindices in [DT_INT32]\n  device='CPU'; dtype in [DT_HALF]; Tindices in [DT_INT64]\n  device='CPU'; dtype in [DT_BFLOAT16]; Tindices in [DT_INT32]\n  device='CPU'; dtype in [DT_BFLOAT16]; Tindices in [DT_INT64]\n  device='CPU'; dtype in [DT_FLOAT]; Tindices in [DT_INT32]\n  device='CPU'; dtype in [DT_FLOAT]; Tindices in [DT_INT64]\n  device='CPU'; dtype in [DT_DOUBLE]; Tindices in [DT_INT32]\n  device='CPU'; dtype in [DT_DOUBLE]; Tindices in [DT_INT64]\n  device='CPU'; dtype in [DT_COMPLEX64]; Tindices in [DT_INT32]\n  device='CPU'; dtype in [DT_COMPLEX64]; Tindices in [DT_INT64]\n  device='CPU'; dtype in [DT_COMPLEX128]; Tindices in [DT_INT32]\n  device='CPU'; dtype in [DT_COMPLEX128]; Tindices in [DT_INT64]\n  device='CPU'; dtype in [DT_BOOL]; Tindices in [DT_INT32]\n  device='CPU'; dtype in [DT_BOOL]; Tindices in [DT_INT64]\n  device='CPU'; dtype in [DT_STRING]; Tindices in [DT_INT32]\n  device='CPU'; dtype in [DT_STRING]; Tindices in [DT_INT64]\n  device='CPU'; dtype in [DT_RESOURCE]; Tindices in [DT_INT32]\n  device='CPU'; dtype in [DT_RESOURCE]; Tindices in [DT_INT64]\n  device='CPU'; dtype in [DT_VARIANT]; Tindices in [DT_INT32]\n  device='CPU'; dtype in [DT_VARIANT]; Tindices in [DT_INT64]\n  device='CPU'; dtype in [DT_QINT8]; Tindices in [DT_INT32]\n  device='CPU'; dtype in [DT_QINT8]; Tindices in [DT_INT64]\n  device='CPU'; dtype in [DT_QUINT8]; Tindices in [DT_INT32]\n  device='CPU'; dtype in [DT_QUINT8]; Tindices in [DT_INT64]\n  device='CPU'; dtype in [DT_QINT32]; Tindices in [DT_INT32]\n  device='CPU'; dtype in [DT_QINT32]; Tindices in [DT_INT64]\n\n\t [[{{node model/embedding/embedding_lookup}}]] [Op:__inference_train_function_65668]",
     "output_type": "error",
     "traceback": [
      "\u001b[0;31m---------------------------------------------------------------------------\u001b[0m",
      "\u001b[0;31mInvalidArgumentError\u001b[0m                      Traceback (most recent call last)",
      "\u001b[1;32m/Users/jwrenn4/Documents/GitProjects/aisquared-end-to-end/SentimentAnalysis.ipynb Cell 7'\u001b[0m in \u001b[0;36m<module>\u001b[0;34m\u001b[0m\n\u001b[1;32m     <a href='vscode-notebook-cell:/Users/jwrenn4/Documents/GitProjects/aisquared-end-to-end/SentimentAnalysis.ipynb#ch0000006?line=10'>11</a>\u001b[0m callback \u001b[39m=\u001b[39m mann\u001b[39m.\u001b[39mutils\u001b[39m.\u001b[39mActiveSparsification(\n\u001b[1;32m     <a href='vscode-notebook-cell:/Users/jwrenn4/Documents/GitProjects/aisquared-end-to-end/SentimentAnalysis.ipynb#ch0000006?line=11'>12</a>\u001b[0m     performance_cutoff \u001b[39m=\u001b[39m \u001b[39m0.8\u001b[39m,\n\u001b[1;32m     <a href='vscode-notebook-cell:/Users/jwrenn4/Documents/GitProjects/aisquared-end-to-end/SentimentAnalysis.ipynb#ch0000006?line=12'>13</a>\u001b[0m     starting_sparsification \u001b[39m=\u001b[39m \u001b[39m50\u001b[39m\n\u001b[1;32m     <a href='vscode-notebook-cell:/Users/jwrenn4/Documents/GitProjects/aisquared-end-to-end/SentimentAnalysis.ipynb#ch0000006?line=13'>14</a>\u001b[0m )\n\u001b[1;32m     <a href='vscode-notebook-cell:/Users/jwrenn4/Documents/GitProjects/aisquared-end-to-end/SentimentAnalysis.ipynb#ch0000006?line=15'>16</a>\u001b[0m \u001b[39m# Train the model with the sparsification callback\u001b[39;00m\n\u001b[0;32m---> <a href='vscode-notebook-cell:/Users/jwrenn4/Documents/GitProjects/aisquared-end-to-end/SentimentAnalysis.ipynb#ch0000006?line=16'>17</a>\u001b[0m model\u001b[39m.\u001b[39;49mfit(\n\u001b[1;32m     <a href='vscode-notebook-cell:/Users/jwrenn4/Documents/GitProjects/aisquared-end-to-end/SentimentAnalysis.ipynb#ch0000006?line=17'>18</a>\u001b[0m     x_train,\n\u001b[1;32m     <a href='vscode-notebook-cell:/Users/jwrenn4/Documents/GitProjects/aisquared-end-to-end/SentimentAnalysis.ipynb#ch0000006?line=18'>19</a>\u001b[0m     y_train\u001b[39m.\u001b[39;49mreshape(\u001b[39m-\u001b[39;49m\u001b[39m1\u001b[39;49m, \u001b[39m1\u001b[39;49m),\n\u001b[1;32m     <a href='vscode-notebook-cell:/Users/jwrenn4/Documents/GitProjects/aisquared-end-to-end/SentimentAnalysis.ipynb#ch0000006?line=19'>20</a>\u001b[0m     epochs \u001b[39m=\u001b[39;49m \u001b[39m1000\u001b[39;49m,\n\u001b[1;32m     <a href='vscode-notebook-cell:/Users/jwrenn4/Documents/GitProjects/aisquared-end-to-end/SentimentAnalysis.ipynb#ch0000006?line=20'>21</a>\u001b[0m     batch_size \u001b[39m=\u001b[39;49m \u001b[39m512\u001b[39;49m,\n\u001b[1;32m     <a href='vscode-notebook-cell:/Users/jwrenn4/Documents/GitProjects/aisquared-end-to-end/SentimentAnalysis.ipynb#ch0000006?line=21'>22</a>\u001b[0m     validation_split \u001b[39m=\u001b[39;49m \u001b[39m0.2\u001b[39;49m,\n\u001b[1;32m     <a href='vscode-notebook-cell:/Users/jwrenn4/Documents/GitProjects/aisquared-end-to-end/SentimentAnalysis.ipynb#ch0000006?line=22'>23</a>\u001b[0m     verbose \u001b[39m=\u001b[39;49m \u001b[39m2\u001b[39;49m,\n\u001b[1;32m     <a href='vscode-notebook-cell:/Users/jwrenn4/Documents/GitProjects/aisquared-end-to-end/SentimentAnalysis.ipynb#ch0000006?line=23'>24</a>\u001b[0m     callbacks \u001b[39m=\u001b[39;49m [callback]\n\u001b[1;32m     <a href='vscode-notebook-cell:/Users/jwrenn4/Documents/GitProjects/aisquared-end-to-end/SentimentAnalysis.ipynb#ch0000006?line=24'>25</a>\u001b[0m )\n\u001b[1;32m     <a href='vscode-notebook-cell:/Users/jwrenn4/Documents/GitProjects/aisquared-end-to-end/SentimentAnalysis.ipynb#ch0000006?line=26'>27</a>\u001b[0m \u001b[39m# Now that the model has been trained, convert all model layers to built-in TensorFlow layers\u001b[39;00m\n\u001b[1;32m     <a href='vscode-notebook-cell:/Users/jwrenn4/Documents/GitProjects/aisquared-end-to-end/SentimentAnalysis.ipynb#ch0000006?line=27'>28</a>\u001b[0m model \u001b[39m=\u001b[39m mann\u001b[39m.\u001b[39mutils\u001b[39m.\u001b[39mremove_layer_masks(model)\n",
      "File \u001b[0;32m~/miniforge3/lib/python3.9/site-packages/keras/engine/training.py:1184\u001b[0m, in \u001b[0;36mModel.fit\u001b[0;34m(self, x, y, batch_size, epochs, verbose, callbacks, validation_split, validation_data, shuffle, class_weight, sample_weight, initial_epoch, steps_per_epoch, validation_steps, validation_batch_size, validation_freq, max_queue_size, workers, use_multiprocessing)\u001b[0m\n\u001b[1;32m   <a href='file:///~/miniforge3/lib/python3.9/site-packages/keras/engine/training.py?line=1176'>1177</a>\u001b[0m \u001b[39mwith\u001b[39;00m tf\u001b[39m.\u001b[39mprofiler\u001b[39m.\u001b[39mexperimental\u001b[39m.\u001b[39mTrace(\n\u001b[1;32m   <a href='file:///~/miniforge3/lib/python3.9/site-packages/keras/engine/training.py?line=1177'>1178</a>\u001b[0m     \u001b[39m'\u001b[39m\u001b[39mtrain\u001b[39m\u001b[39m'\u001b[39m,\n\u001b[1;32m   <a href='file:///~/miniforge3/lib/python3.9/site-packages/keras/engine/training.py?line=1178'>1179</a>\u001b[0m     epoch_num\u001b[39m=\u001b[39mepoch,\n\u001b[1;32m   <a href='file:///~/miniforge3/lib/python3.9/site-packages/keras/engine/training.py?line=1179'>1180</a>\u001b[0m     step_num\u001b[39m=\u001b[39mstep,\n\u001b[1;32m   <a href='file:///~/miniforge3/lib/python3.9/site-packages/keras/engine/training.py?line=1180'>1181</a>\u001b[0m     batch_size\u001b[39m=\u001b[39mbatch_size,\n\u001b[1;32m   <a href='file:///~/miniforge3/lib/python3.9/site-packages/keras/engine/training.py?line=1181'>1182</a>\u001b[0m     _r\u001b[39m=\u001b[39m\u001b[39m1\u001b[39m):\n\u001b[1;32m   <a href='file:///~/miniforge3/lib/python3.9/site-packages/keras/engine/training.py?line=1182'>1183</a>\u001b[0m   callbacks\u001b[39m.\u001b[39mon_train_batch_begin(step)\n\u001b[0;32m-> <a href='file:///~/miniforge3/lib/python3.9/site-packages/keras/engine/training.py?line=1183'>1184</a>\u001b[0m   tmp_logs \u001b[39m=\u001b[39m \u001b[39mself\u001b[39;49m\u001b[39m.\u001b[39;49mtrain_function(iterator)\n\u001b[1;32m   <a href='file:///~/miniforge3/lib/python3.9/site-packages/keras/engine/training.py?line=1184'>1185</a>\u001b[0m   \u001b[39mif\u001b[39;00m data_handler\u001b[39m.\u001b[39mshould_sync:\n\u001b[1;32m   <a href='file:///~/miniforge3/lib/python3.9/site-packages/keras/engine/training.py?line=1185'>1186</a>\u001b[0m     context\u001b[39m.\u001b[39masync_wait()\n",
      "File \u001b[0;32m~/miniforge3/lib/python3.9/site-packages/tensorflow/python/eager/def_function.py:885\u001b[0m, in \u001b[0;36mFunction.__call__\u001b[0;34m(self, *args, **kwds)\u001b[0m\n\u001b[1;32m    <a href='file:///~/miniforge3/lib/python3.9/site-packages/tensorflow/python/eager/def_function.py?line=881'>882</a>\u001b[0m compiler \u001b[39m=\u001b[39m \u001b[39m\"\u001b[39m\u001b[39mxla\u001b[39m\u001b[39m\"\u001b[39m \u001b[39mif\u001b[39;00m \u001b[39mself\u001b[39m\u001b[39m.\u001b[39m_jit_compile \u001b[39melse\u001b[39;00m \u001b[39m\"\u001b[39m\u001b[39mnonXla\u001b[39m\u001b[39m\"\u001b[39m\n\u001b[1;32m    <a href='file:///~/miniforge3/lib/python3.9/site-packages/tensorflow/python/eager/def_function.py?line=883'>884</a>\u001b[0m \u001b[39mwith\u001b[39;00m OptionalXlaContext(\u001b[39mself\u001b[39m\u001b[39m.\u001b[39m_jit_compile):\n\u001b[0;32m--> <a href='file:///~/miniforge3/lib/python3.9/site-packages/tensorflow/python/eager/def_function.py?line=884'>885</a>\u001b[0m   result \u001b[39m=\u001b[39m \u001b[39mself\u001b[39;49m\u001b[39m.\u001b[39;49m_call(\u001b[39m*\u001b[39;49margs, \u001b[39m*\u001b[39;49m\u001b[39m*\u001b[39;49mkwds)\n\u001b[1;32m    <a href='file:///~/miniforge3/lib/python3.9/site-packages/tensorflow/python/eager/def_function.py?line=886'>887</a>\u001b[0m new_tracing_count \u001b[39m=\u001b[39m \u001b[39mself\u001b[39m\u001b[39m.\u001b[39mexperimental_get_tracing_count()\n\u001b[1;32m    <a href='file:///~/miniforge3/lib/python3.9/site-packages/tensorflow/python/eager/def_function.py?line=887'>888</a>\u001b[0m without_tracing \u001b[39m=\u001b[39m (tracing_count \u001b[39m==\u001b[39m new_tracing_count)\n",
      "File \u001b[0;32m~/miniforge3/lib/python3.9/site-packages/tensorflow/python/eager/def_function.py:950\u001b[0m, in \u001b[0;36mFunction._call\u001b[0;34m(self, *args, **kwds)\u001b[0m\n\u001b[1;32m    <a href='file:///~/miniforge3/lib/python3.9/site-packages/tensorflow/python/eager/def_function.py?line=945'>946</a>\u001b[0m     \u001b[39mpass\u001b[39;00m  \u001b[39m# Fall through to cond-based initialization.\u001b[39;00m\n\u001b[1;32m    <a href='file:///~/miniforge3/lib/python3.9/site-packages/tensorflow/python/eager/def_function.py?line=946'>947</a>\u001b[0m   \u001b[39melse\u001b[39;00m:\n\u001b[1;32m    <a href='file:///~/miniforge3/lib/python3.9/site-packages/tensorflow/python/eager/def_function.py?line=947'>948</a>\u001b[0m     \u001b[39m# Lifting succeeded, so variables are initialized and we can run the\u001b[39;00m\n\u001b[1;32m    <a href='file:///~/miniforge3/lib/python3.9/site-packages/tensorflow/python/eager/def_function.py?line=948'>949</a>\u001b[0m     \u001b[39m# stateless function.\u001b[39;00m\n\u001b[0;32m--> <a href='file:///~/miniforge3/lib/python3.9/site-packages/tensorflow/python/eager/def_function.py?line=949'>950</a>\u001b[0m     \u001b[39mreturn\u001b[39;00m \u001b[39mself\u001b[39;49m\u001b[39m.\u001b[39;49m_stateless_fn(\u001b[39m*\u001b[39;49margs, \u001b[39m*\u001b[39;49m\u001b[39m*\u001b[39;49mkwds)\n\u001b[1;32m    <a href='file:///~/miniforge3/lib/python3.9/site-packages/tensorflow/python/eager/def_function.py?line=950'>951</a>\u001b[0m \u001b[39melse\u001b[39;00m:\n\u001b[1;32m    <a href='file:///~/miniforge3/lib/python3.9/site-packages/tensorflow/python/eager/def_function.py?line=951'>952</a>\u001b[0m   _, _, _, filtered_flat_args \u001b[39m=\u001b[39m \\\n\u001b[1;32m    <a href='file:///~/miniforge3/lib/python3.9/site-packages/tensorflow/python/eager/def_function.py?line=952'>953</a>\u001b[0m       \u001b[39mself\u001b[39m\u001b[39m.\u001b[39m_stateful_fn\u001b[39m.\u001b[39m_function_spec\u001b[39m.\u001b[39mcanonicalize_function_inputs(  \u001b[39m# pylint: disable=protected-access\u001b[39;00m\n\u001b[1;32m    <a href='file:///~/miniforge3/lib/python3.9/site-packages/tensorflow/python/eager/def_function.py?line=953'>954</a>\u001b[0m           \u001b[39m*\u001b[39margs, \u001b[39m*\u001b[39m\u001b[39m*\u001b[39mkwds)\n",
      "File \u001b[0;32m~/miniforge3/lib/python3.9/site-packages/tensorflow/python/eager/function.py:3039\u001b[0m, in \u001b[0;36mFunction.__call__\u001b[0;34m(self, *args, **kwargs)\u001b[0m\n\u001b[1;32m   <a href='file:///~/miniforge3/lib/python3.9/site-packages/tensorflow/python/eager/function.py?line=3035'>3036</a>\u001b[0m \u001b[39mwith\u001b[39;00m \u001b[39mself\u001b[39m\u001b[39m.\u001b[39m_lock:\n\u001b[1;32m   <a href='file:///~/miniforge3/lib/python3.9/site-packages/tensorflow/python/eager/function.py?line=3036'>3037</a>\u001b[0m   (graph_function,\n\u001b[1;32m   <a href='file:///~/miniforge3/lib/python3.9/site-packages/tensorflow/python/eager/function.py?line=3037'>3038</a>\u001b[0m    filtered_flat_args) \u001b[39m=\u001b[39m \u001b[39mself\u001b[39m\u001b[39m.\u001b[39m_maybe_define_function(args, kwargs)\n\u001b[0;32m-> <a href='file:///~/miniforge3/lib/python3.9/site-packages/tensorflow/python/eager/function.py?line=3038'>3039</a>\u001b[0m \u001b[39mreturn\u001b[39;00m graph_function\u001b[39m.\u001b[39;49m_call_flat(\n\u001b[1;32m   <a href='file:///~/miniforge3/lib/python3.9/site-packages/tensorflow/python/eager/function.py?line=3039'>3040</a>\u001b[0m     filtered_flat_args, captured_inputs\u001b[39m=\u001b[39;49mgraph_function\u001b[39m.\u001b[39;49mcaptured_inputs)\n",
      "File \u001b[0;32m~/miniforge3/lib/python3.9/site-packages/tensorflow/python/eager/function.py:1963\u001b[0m, in \u001b[0;36mConcreteFunction._call_flat\u001b[0;34m(self, args, captured_inputs, cancellation_manager)\u001b[0m\n\u001b[1;32m   <a href='file:///~/miniforge3/lib/python3.9/site-packages/tensorflow/python/eager/function.py?line=1958'>1959</a>\u001b[0m possible_gradient_type \u001b[39m=\u001b[39m gradients_util\u001b[39m.\u001b[39mPossibleTapeGradientTypes(args)\n\u001b[1;32m   <a href='file:///~/miniforge3/lib/python3.9/site-packages/tensorflow/python/eager/function.py?line=1959'>1960</a>\u001b[0m \u001b[39mif\u001b[39;00m (possible_gradient_type \u001b[39m==\u001b[39m gradients_util\u001b[39m.\u001b[39mPOSSIBLE_GRADIENT_TYPES_NONE\n\u001b[1;32m   <a href='file:///~/miniforge3/lib/python3.9/site-packages/tensorflow/python/eager/function.py?line=1960'>1961</a>\u001b[0m     \u001b[39mand\u001b[39;00m executing_eagerly):\n\u001b[1;32m   <a href='file:///~/miniforge3/lib/python3.9/site-packages/tensorflow/python/eager/function.py?line=1961'>1962</a>\u001b[0m   \u001b[39m# No tape is watching; skip to running the function.\u001b[39;00m\n\u001b[0;32m-> <a href='file:///~/miniforge3/lib/python3.9/site-packages/tensorflow/python/eager/function.py?line=1962'>1963</a>\u001b[0m   \u001b[39mreturn\u001b[39;00m \u001b[39mself\u001b[39m\u001b[39m.\u001b[39m_build_call_outputs(\u001b[39mself\u001b[39;49m\u001b[39m.\u001b[39;49m_inference_function\u001b[39m.\u001b[39;49mcall(\n\u001b[1;32m   <a href='file:///~/miniforge3/lib/python3.9/site-packages/tensorflow/python/eager/function.py?line=1963'>1964</a>\u001b[0m       ctx, args, cancellation_manager\u001b[39m=\u001b[39;49mcancellation_manager))\n\u001b[1;32m   <a href='file:///~/miniforge3/lib/python3.9/site-packages/tensorflow/python/eager/function.py?line=1964'>1965</a>\u001b[0m forward_backward \u001b[39m=\u001b[39m \u001b[39mself\u001b[39m\u001b[39m.\u001b[39m_select_forward_and_backward_functions(\n\u001b[1;32m   <a href='file:///~/miniforge3/lib/python3.9/site-packages/tensorflow/python/eager/function.py?line=1965'>1966</a>\u001b[0m     args,\n\u001b[1;32m   <a href='file:///~/miniforge3/lib/python3.9/site-packages/tensorflow/python/eager/function.py?line=1966'>1967</a>\u001b[0m     possible_gradient_type,\n\u001b[1;32m   <a href='file:///~/miniforge3/lib/python3.9/site-packages/tensorflow/python/eager/function.py?line=1967'>1968</a>\u001b[0m     executing_eagerly)\n\u001b[1;32m   <a href='file:///~/miniforge3/lib/python3.9/site-packages/tensorflow/python/eager/function.py?line=1968'>1969</a>\u001b[0m forward_function, args_with_tangents \u001b[39m=\u001b[39m forward_backward\u001b[39m.\u001b[39mforward()\n",
      "File \u001b[0;32m~/miniforge3/lib/python3.9/site-packages/tensorflow/python/eager/function.py:591\u001b[0m, in \u001b[0;36m_EagerDefinedFunction.call\u001b[0;34m(self, ctx, args, cancellation_manager)\u001b[0m\n\u001b[1;32m    <a href='file:///~/miniforge3/lib/python3.9/site-packages/tensorflow/python/eager/function.py?line=588'>589</a>\u001b[0m \u001b[39mwith\u001b[39;00m _InterpolateFunctionError(\u001b[39mself\u001b[39m):\n\u001b[1;32m    <a href='file:///~/miniforge3/lib/python3.9/site-packages/tensorflow/python/eager/function.py?line=589'>590</a>\u001b[0m   \u001b[39mif\u001b[39;00m cancellation_manager \u001b[39mis\u001b[39;00m \u001b[39mNone\u001b[39;00m:\n\u001b[0;32m--> <a href='file:///~/miniforge3/lib/python3.9/site-packages/tensorflow/python/eager/function.py?line=590'>591</a>\u001b[0m     outputs \u001b[39m=\u001b[39m execute\u001b[39m.\u001b[39;49mexecute(\n\u001b[1;32m    <a href='file:///~/miniforge3/lib/python3.9/site-packages/tensorflow/python/eager/function.py?line=591'>592</a>\u001b[0m         \u001b[39mstr\u001b[39;49m(\u001b[39mself\u001b[39;49m\u001b[39m.\u001b[39;49msignature\u001b[39m.\u001b[39;49mname),\n\u001b[1;32m    <a href='file:///~/miniforge3/lib/python3.9/site-packages/tensorflow/python/eager/function.py?line=592'>593</a>\u001b[0m         num_outputs\u001b[39m=\u001b[39;49m\u001b[39mself\u001b[39;49m\u001b[39m.\u001b[39;49m_num_outputs,\n\u001b[1;32m    <a href='file:///~/miniforge3/lib/python3.9/site-packages/tensorflow/python/eager/function.py?line=593'>594</a>\u001b[0m         inputs\u001b[39m=\u001b[39;49margs,\n\u001b[1;32m    <a href='file:///~/miniforge3/lib/python3.9/site-packages/tensorflow/python/eager/function.py?line=594'>595</a>\u001b[0m         attrs\u001b[39m=\u001b[39;49mattrs,\n\u001b[1;32m    <a href='file:///~/miniforge3/lib/python3.9/site-packages/tensorflow/python/eager/function.py?line=595'>596</a>\u001b[0m         ctx\u001b[39m=\u001b[39;49mctx)\n\u001b[1;32m    <a href='file:///~/miniforge3/lib/python3.9/site-packages/tensorflow/python/eager/function.py?line=596'>597</a>\u001b[0m   \u001b[39melse\u001b[39;00m:\n\u001b[1;32m    <a href='file:///~/miniforge3/lib/python3.9/site-packages/tensorflow/python/eager/function.py?line=597'>598</a>\u001b[0m     outputs \u001b[39m=\u001b[39m execute\u001b[39m.\u001b[39mexecute_with_cancellation(\n\u001b[1;32m    <a href='file:///~/miniforge3/lib/python3.9/site-packages/tensorflow/python/eager/function.py?line=598'>599</a>\u001b[0m         \u001b[39mstr\u001b[39m(\u001b[39mself\u001b[39m\u001b[39m.\u001b[39msignature\u001b[39m.\u001b[39mname),\n\u001b[1;32m    <a href='file:///~/miniforge3/lib/python3.9/site-packages/tensorflow/python/eager/function.py?line=599'>600</a>\u001b[0m         num_outputs\u001b[39m=\u001b[39m\u001b[39mself\u001b[39m\u001b[39m.\u001b[39m_num_outputs,\n\u001b[0;32m   (...)\u001b[0m\n\u001b[1;32m    <a href='file:///~/miniforge3/lib/python3.9/site-packages/tensorflow/python/eager/function.py?line=602'>603</a>\u001b[0m         ctx\u001b[39m=\u001b[39mctx,\n\u001b[1;32m    <a href='file:///~/miniforge3/lib/python3.9/site-packages/tensorflow/python/eager/function.py?line=603'>604</a>\u001b[0m         cancellation_manager\u001b[39m=\u001b[39mcancellation_manager)\n",
      "File \u001b[0;32m~/miniforge3/lib/python3.9/site-packages/tensorflow/python/eager/execute.py:59\u001b[0m, in \u001b[0;36mquick_execute\u001b[0;34m(op_name, num_outputs, inputs, attrs, ctx, name)\u001b[0m\n\u001b[1;32m     <a href='file:///~/miniforge3/lib/python3.9/site-packages/tensorflow/python/eager/execute.py?line=56'>57</a>\u001b[0m \u001b[39mtry\u001b[39;00m:\n\u001b[1;32m     <a href='file:///~/miniforge3/lib/python3.9/site-packages/tensorflow/python/eager/execute.py?line=57'>58</a>\u001b[0m   ctx\u001b[39m.\u001b[39mensure_initialized()\n\u001b[0;32m---> <a href='file:///~/miniforge3/lib/python3.9/site-packages/tensorflow/python/eager/execute.py?line=58'>59</a>\u001b[0m   tensors \u001b[39m=\u001b[39m pywrap_tfe\u001b[39m.\u001b[39;49mTFE_Py_Execute(ctx\u001b[39m.\u001b[39;49m_handle, device_name, op_name,\n\u001b[1;32m     <a href='file:///~/miniforge3/lib/python3.9/site-packages/tensorflow/python/eager/execute.py?line=59'>60</a>\u001b[0m                                       inputs, attrs, num_outputs)\n\u001b[1;32m     <a href='file:///~/miniforge3/lib/python3.9/site-packages/tensorflow/python/eager/execute.py?line=60'>61</a>\u001b[0m \u001b[39mexcept\u001b[39;00m core\u001b[39m.\u001b[39m_NotOkStatusException \u001b[39mas\u001b[39;00m e:\n\u001b[1;32m     <a href='file:///~/miniforge3/lib/python3.9/site-packages/tensorflow/python/eager/execute.py?line=61'>62</a>\u001b[0m   \u001b[39mif\u001b[39;00m name \u001b[39mis\u001b[39;00m \u001b[39mnot\u001b[39;00m \u001b[39mNone\u001b[39;00m:\n",
      "\u001b[0;31mInvalidArgumentError\u001b[0m: Cannot assign a device for operation model/embedding/embedding_lookup: Could not satisfy explicit device specification '/job:localhost/replica:0/task:0/device:GPU:0' because no supported kernel for GPU devices is available.\nColocation Debug Info:\nColocation group had the following types and supported devices: \nRoot Member(assigned_device_name_index_=2 requested_device_name_='/job:localhost/replica:0/task:0/device:GPU:0' assigned_device_name_='/job:localhost/replica:0/task:0/device:GPU:0' resource_device_name_='/job:localhost/replica:0/task:0/device:GPU:0' supported_device_types_=[CPU] possible_devices_=[]\nAssignSubVariableOp: GPU CPU \nRealDiv: GPU CPU \nSqrt: GPU CPU \nAssignVariableOp: GPU CPU \nUnsortedSegmentSum: GPU CPU \nIdentity: GPU CPU \nStridedSlice: CPU \nConst: GPU CPU \nNoOp: GPU CPU \nMul: GPU CPU \nShape: GPU CPU \n_Arg: GPU CPU \nResourceScatterAdd: GPU CPU \nUnique: CPU \nReadVariableOp: GPU CPU \nAddV2: GPU CPU \nResourceGather: GPU CPU \n\nColocation members, user-requested devices, and framework assigned devices, if any:\n  model_embedding_embedding_lookup_65233 (_Arg)  framework assigned device=/job:localhost/replica:0/task:0/device:GPU:0\n  adam_adam_update_readvariableop_resource (_Arg)  framework assigned device=/job:localhost/replica:0/task:0/device:GPU:0\n  adam_adam_update_readvariableop_2_resource (_Arg)  framework assigned device=/job:localhost/replica:0/task:0/device:GPU:0\n  model/embedding/embedding_lookup (ResourceGather) /job:localhost/replica:0/task:0/device:GPU:0\n  model/embedding/embedding_lookup/Identity (Identity) /job:localhost/replica:0/task:0/device:GPU:0\n  Adam/Adam/update/Unique (Unique) /job:localhost/replica:0/task:0/device:GPU:0\n  Adam/Adam/update/Shape (Shape) /job:localhost/replica:0/task:0/device:GPU:0\n  Adam/Adam/update/strided_slice/stack (Const) /job:localhost/replica:0/task:0/device:GPU:0\n  Adam/Adam/update/strided_slice/stack_1 (Const) /job:localhost/replica:0/task:0/device:GPU:0\n  Adam/Adam/update/strided_slice/stack_2 (Const) /job:localhost/replica:0/task:0/device:GPU:0\n  Adam/Adam/update/strided_slice (StridedSlice) /job:localhost/replica:0/task:0/device:GPU:0\n  Adam/Adam/update/UnsortedSegmentSum (UnsortedSegmentSum) /job:localhost/replica:0/task:0/device:GPU:0\n  Adam/Adam/update/mul (Mul) /job:localhost/replica:0/task:0/device:GPU:0\n  Adam/Adam/update/ReadVariableOp (ReadVariableOp) \n  Adam/Adam/update/mul_1 (Mul) /job:localhost/replica:0/task:0/device:GPU:0\n  Adam/Adam/update/AssignVariableOp (AssignVariableOp) /job:localhost/replica:0/task:0/device:GPU:0\n  Adam/Adam/update/ResourceScatterAdd (ResourceScatterAdd) /job:localhost/replica:0/task:0/device:GPU:0\n  Adam/Adam/update/ReadVariableOp_1 (ReadVariableOp) \n  Adam/Adam/update/mul_2 (Mul) /job:localhost/replica:0/task:0/device:GPU:0\n  Adam/Adam/update/mul_3 (Mul) /job:localhost/replica:0/task:0/device:GPU:0\n  Adam/Adam/update/ReadVariableOp_2 (ReadVariableOp) \n  Adam/Adam/update/mul_4 (Mul) /job:localhost/replica:0/task:0/device:GPU:0\n  Adam/Adam/update/AssignVariableOp_1 (AssignVariableOp) /job:localhost/replica:0/task:0/device:GPU:0\n  Adam/Adam/update/ResourceScatterAdd_1 (ResourceScatterAdd) /job:localhost/replica:0/task:0/device:GPU:0\n  Adam/Adam/update/ReadVariableOp_3 (ReadVariableOp) \n  Adam/Adam/update/Sqrt (Sqrt) /job:localhost/replica:0/task:0/device:GPU:0\n  Adam/Adam/update/mul_5 (Mul) /job:localhost/replica:0/task:0/device:GPU:0\n  Adam/Adam/update/add (AddV2) /job:localhost/replica:0/task:0/device:GPU:0\n  Adam/Adam/update/truediv (RealDiv) /job:localhost/replica:0/task:0/device:GPU:0\n  Adam/Adam/update/AssignSubVariableOp (AssignSubVariableOp) /job:localhost/replica:0/task:0/device:GPU:0\n  Adam/Adam/update/group_deps/NoOp (NoOp) /job:localhost/replica:0/task:0/device:GPU:0\n  Adam/Adam/update/group_deps/NoOp_1 (NoOp) /job:localhost/replica:0/task:0/device:GPU:0\n  Adam/Adam/update/group_deps (NoOp) /job:localhost/replica:0/task:0/device:GPU:0\n\nOp: ResourceGather\nNode attrs: Tindices=DT_INT32, dtype=DT_FLOAT, batch_dims=0, validate_indices=true, _class=[\"loc:@model/embedding/embedding_lookup/65233\"]\nRegistered kernels:\n  device='XLA_CPU_JIT'; Tindices in [DT_INT32, DT_INT64]; dtype in [DT_FLOAT, DT_DOUBLE, DT_INT32, DT_UINT8, DT_INT16, DT_INT8, DT_COMPLEX64, DT_INT64, DT_BOOL, DT_QINT8, DT_QUINT8, DT_QINT32, DT_BFLOAT16, DT_UINT16, DT_COMPLEX128, DT_HALF, DT_UINT32, DT_UINT64]\n  device='GPU'; dtype in [DT_INT64]; Tindices in [DT_INT32]\n  device='GPU'; dtype in [DT_INT64]; Tindices in [DT_INT64]\n  device='GPU'; dtype in [DT_FLOAT]; Tindices in [DT_INT32]\n  device='GPU'; dtype in [DT_FLOAT]; Tindices in [DT_INT64]\n  device='CPU'; dtype in [DT_UINT64]; Tindices in [DT_INT32]\n  device='CPU'; dtype in [DT_UINT64]; Tindices in [DT_INT64]\n  device='CPU'; dtype in [DT_INT64]; Tindices in [DT_INT32]\n  device='CPU'; dtype in [DT_INT64]; Tindices in [DT_INT64]\n  device='CPU'; dtype in [DT_UINT32]; Tindices in [DT_INT32]\n  device='CPU'; dtype in [DT_UINT32]; Tindices in [DT_INT64]\n  device='CPU'; dtype in [DT_UINT16]; Tindices in [DT_INT32]\n  device='CPU'; dtype in [DT_UINT16]; Tindices in [DT_INT64]\n  device='CPU'; dtype in [DT_INT16]; Tindices in [DT_INT32]\n  device='CPU'; dtype in [DT_INT16]; Tindices in [DT_INT64]\n  device='CPU'; dtype in [DT_UINT8]; Tindices in [DT_INT32]\n  device='CPU'; dtype in [DT_UINT8]; Tindices in [DT_INT64]\n  device='CPU'; dtype in [DT_INT8]; Tindices in [DT_INT32]\n  device='CPU'; dtype in [DT_INT8]; Tindices in [DT_INT64]\n  device='CPU'; dtype in [DT_INT32]; Tindices in [DT_INT32]\n  device='CPU'; dtype in [DT_INT32]; Tindices in [DT_INT64]\n  device='CPU'; dtype in [DT_HALF]; Tindices in [DT_INT32]\n  device='CPU'; dtype in [DT_HALF]; Tindices in [DT_INT64]\n  device='CPU'; dtype in [DT_BFLOAT16]; Tindices in [DT_INT32]\n  device='CPU'; dtype in [DT_BFLOAT16]; Tindices in [DT_INT64]\n  device='CPU'; dtype in [DT_FLOAT]; Tindices in [DT_INT32]\n  device='CPU'; dtype in [DT_FLOAT]; Tindices in [DT_INT64]\n  device='CPU'; dtype in [DT_DOUBLE]; Tindices in [DT_INT32]\n  device='CPU'; dtype in [DT_DOUBLE]; Tindices in [DT_INT64]\n  device='CPU'; dtype in [DT_COMPLEX64]; Tindices in [DT_INT32]\n  device='CPU'; dtype in [DT_COMPLEX64]; Tindices in [DT_INT64]\n  device='CPU'; dtype in [DT_COMPLEX128]; Tindices in [DT_INT32]\n  device='CPU'; dtype in [DT_COMPLEX128]; Tindices in [DT_INT64]\n  device='CPU'; dtype in [DT_BOOL]; Tindices in [DT_INT32]\n  device='CPU'; dtype in [DT_BOOL]; Tindices in [DT_INT64]\n  device='CPU'; dtype in [DT_STRING]; Tindices in [DT_INT32]\n  device='CPU'; dtype in [DT_STRING]; Tindices in [DT_INT64]\n  device='CPU'; dtype in [DT_RESOURCE]; Tindices in [DT_INT32]\n  device='CPU'; dtype in [DT_RESOURCE]; Tindices in [DT_INT64]\n  device='CPU'; dtype in [DT_VARIANT]; Tindices in [DT_INT32]\n  device='CPU'; dtype in [DT_VARIANT]; Tindices in [DT_INT64]\n  device='CPU'; dtype in [DT_QINT8]; Tindices in [DT_INT32]\n  device='CPU'; dtype in [DT_QINT8]; Tindices in [DT_INT64]\n  device='CPU'; dtype in [DT_QUINT8]; Tindices in [DT_INT32]\n  device='CPU'; dtype in [DT_QUINT8]; Tindices in [DT_INT64]\n  device='CPU'; dtype in [DT_QINT32]; Tindices in [DT_INT32]\n  device='CPU'; dtype in [DT_QINT32]; Tindices in [DT_INT64]\n\n\t [[{{node model/embedding/embedding_lookup}}]] [Op:__inference_train_function_65668]"
     ]
    }
   ],
   "source": [
    "# Prune the model and train it\n",
    "model = mann.utils.mask_model(\n",
    "    model,\n",
    "    50,\n",
    "    x = x_train[:1000],\n",
    "    y = y_train[:1000].reshape(-1, 1)\n",
    ")\n",
    "model.compile(loss = 'binary_crossentropy', optimizer = 'adam', metrics = ['accuracy'])\n",
    "\n",
    "# Create a pruning callback that will increase pruning rate as performance improves\n",
    "callback = mann.utils.ActiveSparsification(\n",
    "    performance_cutoff = 0.8,\n",
    "    starting_sparsification = 50\n",
    ")\n",
    "\n",
    "# Train the model with the sparsification callback\n",
    "model.fit(\n",
    "    x_train,\n",
    "    y_train.reshape(-1, 1),\n",
    "    epochs = 1000,\n",
    "    batch_size = 512,\n",
    "    validation_split = 0.2,\n",
    "    verbose = 2,\n",
    "    callbacks = [callback]\n",
    ")\n",
    "\n",
    "# Now that the model has been trained, convert all model layers to built-in TensorFlow layers\n",
    "model = mann.utils.remove_layer_masks(model)"
   ]
  },
  {
   "cell_type": "code",
   "execution_count": null,
   "metadata": {},
   "outputs": [],
   "source": [
    "# Check model performance\n",
    "preds = (model.predict(x_test) >= 0.5).astype(int)\n",
    "print('Model Performance on Test Data:')\n",
    "print('\\n')\n",
    "print(confusion_matrix(y_test, preds))\n",
    "print(classification_report(y_test, preds))\n",
    "\n",
    "# Save the model\n",
    "model.save('SentimentClassifier.h5')"
   ]
  },
  {
   "cell_type": "markdown",
   "metadata": {},
   "source": [
    "## Package the Model\n",
    "\n",
    "Now that the model has been created, we can package the model into a single `.air` file that enables integration into the browser.\n",
    "\n",
    "To perform this packaging, we will be utilizing the `aisquared` package `DocumentPredictor` class."
   ]
  },
  {
   "cell_type": "code",
   "execution_count": null,
   "metadata": {},
   "outputs": [],
   "source": [
    "aisquared.base.DocumentPredictor(\n",
    "    model_path = 'SentimentClassifier.h5',\n",
    "    vocabulary = vocab,\n",
    "    sequence_length = 512,\n",
    "    name = 'SentimentClassifier',\n",
    "    label_map = ['Negative', 'Postivie', 'Inconclusive'],\n",
    "    include_probability = True,\n",
    "    remove_punctuation = False,\n",
    "    max_vocab = 9999\n",
    ").compile()"
   ]
  }
 ],
 "metadata": {
  "interpreter": {
   "hash": "0671325c08d22fc44ce2e58aedbf8efae69ce5eb9c1911bbe321ecb24080d883"
  },
  "kernelspec": {
   "display_name": "Python 3.9.10 64-bit ('base': conda)",
   "language": "python",
   "name": "python3"
  },
  "language_info": {
   "codemirror_mode": {
    "name": "ipython",
    "version": 3
   },
   "file_extension": ".py",
   "mimetype": "text/x-python",
   "name": "python",
   "nbconvert_exporter": "python",
   "pygments_lexer": "ipython3",
   "version": "3.9.10"
  },
  "orig_nbformat": 4
 },
 "nbformat": 4,
 "nbformat_minor": 2
}
